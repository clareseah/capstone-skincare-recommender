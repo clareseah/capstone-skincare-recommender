{
 "cells": [
  {
   "cell_type": "markdown",
   "id": "ff1fae02-de21-46fc-86e4-0a10bc9e830b",
   "metadata": {},
   "source": [
    "<img src=\"../images/cs_logo_pink.PNG\" style=\"float: left; margin: 36px 20px 0 0; height: 60px\">\n",
    "\n",
    "# Capstone Project - Cos Skin <br><i style = \"font-size:16px\">Your skin but better</i>"
   ]
  },
  {
   "cell_type": "markdown",
   "id": "3467d998-006d-4bc5-9517-e9d15c52f660",
   "metadata": {},
   "source": [
    "## Notebook 2 of 7\n",
    "Notebook 1: Introduction & Data Collection Part 1 of 3<br>\n",
    "<b>Notebook 2: Data Collection Part 2 of 3<br></b>\n",
    "Notebook 3: Data Collection Part 3 of 3<br>\n",
    "Notebook 4: EDA & Data Cleaning<br>\n",
    "Notebook 5: Preprocessing<br>\n",
    "Notebook 6: Modelling<br>\n",
    "Notebook 7: App Deployment"
   ]
  },
  {
   "cell_type": "markdown",
   "id": "f195d7fe-ccd8-4fd8-bff9-8398533fd7a4",
   "metadata": {},
   "source": [
    "## Web Scraping\n",
    "In this notebook, I will be scraping for additional product details using the product urls obtained in Notebook 1. Selenium is used for scraping in this notebook as well. Additional product details include product description, product claims, product ingredients and product images. "
   ]
  },
  {
   "cell_type": "code",
   "execution_count": 1,
   "id": "53b27cfb-c91c-4b7a-affd-d0224cb1fa0d",
   "metadata": {},
   "outputs": [],
   "source": [
    "# import libraries\n",
    "\n",
    "import pandas as pd\n",
    "import numpy as np\n",
    "import csv\n",
    "import time\n",
    "import sys, traceback\n",
    "\n",
    "from tqdm import tqdm\n",
    "from selenium import webdriver\n",
    "from selenium.webdriver.chrome.service import Service\n",
    "from selenium.webdriver.common.by import By\n",
    "from selenium.webdriver.support.ui import WebDriverWait\n",
    "from selenium.webdriver.support import expected_conditions as EC\n",
    "from selenium.common.exceptions import TimeoutException\n",
    "from selenium.common.exceptions import NoSuchElementException"
   ]
  },
  {
   "cell_type": "code",
   "execution_count": 2,
   "id": "ed46e7e0-ba2b-4aad-9bf7-6d8b30022371",
   "metadata": {},
   "outputs": [],
   "source": [
    "# import datasets\n",
    "cleanser_info = pd.read_csv('../data/cleanser_pdts.csv')\n",
    "toner_info = pd.read_csv('../data/toner_pdts.csv')\n",
    "day_m_info = pd.read_csv('../data/day_moisturizer_pdts.csv')\n",
    "night_cream_info = pd.read_csv('../data/night_cream_pdts.csv')\n",
    "sunscreen_info = pd.read_csv('../data/sunscreen_pdts.csv')"
   ]
  },
  {
   "cell_type": "markdown",
   "id": "f471359d-a38a-4963-b036-e67acb32838d",
   "metadata": {},
   "source": [
    "### Functions for Web Scraping"
   ]
  },
  {
   "cell_type": "code",
   "execution_count": 3,
   "id": "5c1527c9-c2bf-4c8e-8f6c-007a874b9224",
   "metadata": {
    "tags": []
   },
   "outputs": [],
   "source": [
    "# function to scrape product description\n",
    "def pdt_desc_scraper(cat_df):\n",
    "    option = webdriver.ChromeOptions()\n",
    "    option.add_argument('--headless')\n",
    "    chrome_executable = Service('/Users/CLARE/mambaforge/bin/chromedriver')\n",
    "    driver = webdriver.Chrome(service=chrome_executable, options = option)\n",
    "    driver.implicitly_wait(10)\n",
    "\n",
    "    ls_desc_summary = []\n",
    "    ls_what_it_is = []\n",
    "    ls_what_it_does = []\n",
    "\n",
    "    for i in tqdm(range(cat_df.shape[0]), desc = 'progress'):\n",
    "\n",
    "        url = cat_df['pdt_url'][i]\n",
    "        driver.get(url) \n",
    "        \n",
    "        try:\n",
    "            WebDriverWait(driver, 10).until(EC.presence_of_element_located((By.CSS_SELECTOR, \"div.product-filter-types-values\")))\n",
    "            desc_summary = driver.find_element(By.CSS_SELECTOR, \"div.product-filter-types-values\").text\n",
    "            ls_desc_summary.append(desc_summary)\n",
    "        except:\n",
    "            desc_summary = 'NA'\n",
    "            ls_desc_summary.append(desc_summary)\n",
    "        \n",
    "        try:\n",
    "            WebDriverWait(driver, 10).until(EC.element_to_be_clickable((By.CSS_SELECTOR, \"div.product-description>div.read-more>div.read-more-actions>button.read-more-button\"))).click()\n",
    "            WebDriverWait(driver, 10).until(EC.presence_of_element_located((By.CSS_SELECTOR, \"div.read-more-block-container>div>div>p\")))\n",
    "            what_it_is = driver.find_elements(By.CSS_SELECTOR, \"div.read-more-block-container>div>div>p\")[1].get_attribute(\"textContent\")\n",
    "            what_it_does = driver.find_elements(By.CSS_SELECTOR, \"div.read-more-block-container>div>div>p\")[3].get_attribute(\"textContent\")\n",
    "           \n",
    "            ls_what_it_is.append(what_it_is)\n",
    "            ls_what_it_does.append(what_it_does)\n",
    "            \n",
    "        except NoSuchElementException:\n",
    "            exc_type, exc_value, exc_traceback = sys.exc_info()\n",
    "            if exc_traceback.tb_lineno == 23:\n",
    "                what_it_is = 'NA'\n",
    "                what_it_does = 'NA'\n",
    "                \n",
    "                ls_what_it_is.append(what_it_is)\n",
    "                ls_what_it_does.append(what_it_does)\n",
    "                \n",
    "            elif exc_traceback.tb_lineno == 25:\n",
    "                what_it_is = 'NA'\n",
    "                what_it_does = driver.find_elements(By.CSS_SELECTOR, \"div.read-more-block-container>div>div>p\")[3].get_attribute(\"textContent\")\n",
    "           \n",
    "                ls_what_it_is.append(what_it_is)\n",
    "                ls_what_it_does.append(what_it_does)\n",
    "            \n",
    "            elif exc_traceback.tb_lineno == 26:\n",
    "                what_it_is = driver.find_elements(By.CSS_SELECTOR, \"div.read-more-block-container>div>div>p\")[1].get_attribute(\"textContent\")\n",
    "                what_it_does = 'NA'\n",
    "           \n",
    "                ls_what_it_is.append(what_it_is)\n",
    "                ls_what_it_does.append(what_it_does)\n",
    "             \n",
    "    driver.quit()\n",
    "\n",
    "    cat_df['desc_summary'] = ls_desc_summary\n",
    "    cat_df['what_it_is'] = ls_what_it_is\n",
    "    cat_df['what_it_does'] = ls_what_it_does\n",
    "    \n",
    "    return cat_df"
   ]
  },
  {
   "cell_type": "code",
   "execution_count": 4,
   "id": "3acc1287-63bf-4d8a-a48a-844683c5d87b",
   "metadata": {},
   "outputs": [],
   "source": [
    "# function to scrape ingredients - product claims\n",
    "def pdt_claims_scrapping(cat_df):\n",
    "    option = webdriver.ChromeOptions()\n",
    "    option.add_argument('--headless')\n",
    "    chrome_executable = Service('/Users/CLARE/mambaforge/bin/chromedriver')\n",
    "    driver = webdriver.Chrome(service=chrome_executable, options = option)\n",
    "    driver.maximize_window()\n",
    "    driver.implicitly_wait(10)\n",
    "\n",
    "    ls_pdt_claims = []\n",
    "\n",
    "    for i in tqdm(range(cat_df.shape[0]), desc = 'progress'):\n",
    "\n",
    "        url = cat_df['pdt_url'][i]\n",
    "        driver.get(url) \n",
    "        \n",
    "        try:\n",
    "            WebDriverWait(driver, 10).until(EC.presence_of_element_located((By.CSS_SELECTOR, \"div.variant-ingredients>span.variant-ingredients-values\")))\n",
    "            pdt_claims = driver.find_element(By.CSS_SELECTOR, \"div.variant-ingredients>span.variant-ingredients-values\").text\n",
    "            ls_pdt_claims.append(pdt_claims)\n",
    "            \n",
    "        except (TimeoutException, NoSuchElementException):\n",
    "            pdt_claims = 'NA'\n",
    "            ls_pdt_claims.append(pdt_claims)\n",
    "\n",
    "    driver.quit()\n",
    "\n",
    "    cat_df['pdt_claims'] = ls_pdt_claims\n",
    "    \n",
    "    return cat_df"
   ]
  },
  {
   "cell_type": "code",
   "execution_count": 5,
   "id": "4dd3cf17-20ab-40c8-a1d0-319e21e89f76",
   "metadata": {
    "tags": []
   },
   "outputs": [],
   "source": [
    "# function to scrape product ingredients\n",
    "def pdt_ingredients_scrapping(cat_df):\n",
    "    option = webdriver.ChromeOptions()\n",
    "    option.add_argument('--headless')\n",
    "    chrome_executable = Service('/Users/CLARE/mambaforge/bin/chromedriver')\n",
    "    driver = webdriver.Chrome(service=chrome_executable, options = option)\n",
    "    driver.implicitly_wait(10)\n",
    "\n",
    "    ls_pdt_ingredients = []\n",
    "\n",
    "    for i in tqdm(range(cat_df.shape[0]), desc = 'progress'):\n",
    "\n",
    "        url = cat_df['pdt_url'][i]\n",
    "        driver.get(url) \n",
    "        \n",
    "        try:\n",
    "            WebDriverWait(driver, 10).until(EC.presence_of_element_located((By.CSS_SELECTOR, \"div.product-ingredients-values\")))\n",
    "            pdt_ingredients = driver.find_element(By.CSS_SELECTOR, \"div.product-ingredients-values\").get_attribute(\"textContent\")\n",
    "            \n",
    "            ls_pdt_ingredients.append(pdt_ingredients)\n",
    "            \n",
    "        except (TimeoutException, NoSuchElementException):\n",
    "            pdt_ingredients = 'NA'\n",
    "               \n",
    "            ls_pdt_ingredients.append(pdt_ingredients)\n",
    "\n",
    "    driver.quit()\n",
    "\n",
    "    cat_df['pdt_ingredients'] = ls_pdt_ingredients\n",
    "    \n",
    "    return cat_df"
   ]
  },
  {
   "cell_type": "code",
   "execution_count": 6,
   "id": "c4c4205d-9cb5-4786-b1ae-7d0663d20aa6",
   "metadata": {
    "tags": []
   },
   "outputs": [],
   "source": [
    "# function to scrape product image\n",
    "def pdt_image_scrapping(cat_df):\n",
    "    option = webdriver.ChromeOptions()\n",
    "    option.add_argument('--headless')\n",
    "    chrome_executable = Service('/Users/CLARE/mambaforge/bin/chromedriver')\n",
    "    driver = webdriver.Chrome(service=chrome_executable, options = option)\n",
    "    driver.implicitly_wait(10)\n",
    "\n",
    "    ls_images = []\n",
    "\n",
    "    for i in tqdm(range(cat_df.shape[0]), desc = 'progress'):\n",
    "\n",
    "        url = cat_df['pdt_url'][i]\n",
    "        driver.get(url) \n",
    "        \n",
    "        try:\n",
    "            WebDriverWait(driver, 10).until(EC.presence_of_element_located((By.CSS_SELECTOR, \"img.variant-image-border-space\")))\n",
    "            pdt_image = driver.find_element(By.CSS_SELECTOR, \"div#tns1>div.image-container.tns-item.tns-slide-active>img.variant-image-border-space\").get_attribute(\"src\")\n",
    "            \n",
    "            ls_images.append(pdt_image)\n",
    "            \n",
    "        except (TimeoutException, NoSuchElementException):\n",
    "            pdt_ingredients = 'NA'\n",
    "               \n",
    "            ls_images.append(pdt_image)\n",
    "\n",
    "    driver.quit()\n",
    "\n",
    "    cat_df['pdt_images'] = ls_images\n",
    "    \n",
    "    return cat_df"
   ]
  },
  {
   "cell_type": "code",
   "execution_count": 7,
   "id": "4d0e7a09-4098-486d-820d-2131f95a65fc",
   "metadata": {
    "tags": []
   },
   "outputs": [
    {
     "name": "stderr",
     "output_type": "stream",
     "text": [
      "progress: 100%|███████████████████████████████| 275/275 [14:07<00:00,  3.08s/it]\n"
     ]
    }
   ],
   "source": [
    "cleanser_info = pdt_desc_scraper(cleanser_info)"
   ]
  },
  {
   "cell_type": "code",
   "execution_count": 8,
   "id": "8a9c2e95-cf1f-4385-ac59-e7bfbb1723b9",
   "metadata": {},
   "outputs": [
    {
     "name": "stderr",
     "output_type": "stream",
     "text": [
      "progress: 100%|███████████████████████████████| 275/275 [17:30<00:00,  3.82s/it]\n"
     ]
    }
   ],
   "source": [
    "cleanser_info = pdt_claims_scrapping(cleanser_info)"
   ]
  },
  {
   "cell_type": "code",
   "execution_count": 9,
   "id": "998fa29a-b79c-4912-a473-1d1e26091701",
   "metadata": {},
   "outputs": [
    {
     "name": "stderr",
     "output_type": "stream",
     "text": [
      "progress: 100%|███████████████████████████████| 275/275 [18:00<00:00,  3.93s/it]\n"
     ]
    }
   ],
   "source": [
    "cleanser_info = pdt_ingredients_scrapping(cleanser_info)"
   ]
  },
  {
   "cell_type": "code",
   "execution_count": 10,
   "id": "3558a0dc-6ce4-4608-92d6-560ca56326ef",
   "metadata": {},
   "outputs": [
    {
     "name": "stderr",
     "output_type": "stream",
     "text": [
      "progress: 100%|███████████████████████████████| 275/275 [13:51<00:00,  3.02s/it]\n"
     ]
    }
   ],
   "source": [
    "cleanser_info = pdt_image_scrapping(cleanser_info)"
   ]
  },
  {
   "cell_type": "code",
   "execution_count": 11,
   "id": "4db0d5f2-0e73-4bde-a70c-4f7d6b70da6e",
   "metadata": {},
   "outputs": [],
   "source": [
    "cleanser_info.to_csv('../data/cleanser_pdt_details.csv', index = False )"
   ]
  },
  {
   "cell_type": "code",
   "execution_count": 13,
   "id": "5cc8621b-255b-4d34-ab0c-ccd63550521b",
   "metadata": {},
   "outputs": [
    {
     "name": "stderr",
     "output_type": "stream",
     "text": [
      "progress: 100%|███████████████████████████████| 160/160 [09:13<00:00,  3.46s/it]\n"
     ]
    }
   ],
   "source": [
    "toner_info = pdt_desc_scraper(toner_info)"
   ]
  },
  {
   "cell_type": "code",
   "execution_count": 14,
   "id": "617059eb-4a92-4414-a55a-65d6e174957f",
   "metadata": {},
   "outputs": [
    {
     "name": "stderr",
     "output_type": "stream",
     "text": [
      "progress: 100%|███████████████████████████████| 160/160 [11:26<00:00,  4.29s/it]\n"
     ]
    }
   ],
   "source": [
    "toner_info = pdt_claims_scrapping(toner_info)"
   ]
  },
  {
   "cell_type": "code",
   "execution_count": 15,
   "id": "b66e2c33-7f45-40b1-9877-23ec6deb31ac",
   "metadata": {},
   "outputs": [
    {
     "name": "stderr",
     "output_type": "stream",
     "text": [
      "progress: 100%|███████████████████████████████| 160/160 [10:12<00:00,  3.83s/it]\n"
     ]
    }
   ],
   "source": [
    "toner_info = pdt_ingredients_scrapping(toner_info)"
   ]
  },
  {
   "cell_type": "code",
   "execution_count": 16,
   "id": "884404f9-64f9-42ab-8775-c8a58274738a",
   "metadata": {},
   "outputs": [
    {
     "name": "stderr",
     "output_type": "stream",
     "text": [
      "progress: 100%|███████████████████████████████| 160/160 [07:49<00:00,  2.94s/it]\n"
     ]
    }
   ],
   "source": [
    "toner_info = pdt_image_scrapping(toner_info)"
   ]
  },
  {
   "cell_type": "code",
   "execution_count": 17,
   "id": "d918d112-4cea-47b4-9762-4358754bbf05",
   "metadata": {},
   "outputs": [],
   "source": [
    "toner_info.to_csv('../data/toner_pdt_details.csv', index = False )"
   ]
  },
  {
   "cell_type": "code",
   "execution_count": 18,
   "id": "ffaa8d59-6961-4b45-9955-9ced300a80bd",
   "metadata": {},
   "outputs": [
    {
     "name": "stderr",
     "output_type": "stream",
     "text": [
      "progress: 100%|███████████████████████████████| 381/381 [20:17<00:00,  3.20s/it]\n"
     ]
    }
   ],
   "source": [
    "day_m_info = pdt_desc_scraper(day_m_info)"
   ]
  },
  {
   "cell_type": "code",
   "execution_count": 19,
   "id": "ea109ae8-4af6-4645-9182-e9574151a0d0",
   "metadata": {},
   "outputs": [
    {
     "name": "stderr",
     "output_type": "stream",
     "text": [
      "progress: 100%|███████████████████████████████| 381/381 [23:12<00:00,  3.66s/it]\n"
     ]
    }
   ],
   "source": [
    "day_m_info = pdt_claims_scrapping(day_m_info)"
   ]
  },
  {
   "cell_type": "code",
   "execution_count": 20,
   "id": "7fbed2c8-957d-41f0-a46d-addc5807fab7",
   "metadata": {},
   "outputs": [
    {
     "name": "stderr",
     "output_type": "stream",
     "text": [
      "progress: 100%|███████████████████████████████| 381/381 [25:20<00:00,  3.99s/it]\n"
     ]
    }
   ],
   "source": [
    "day_m_info = pdt_ingredients_scrapping(day_m_info)"
   ]
  },
  {
   "cell_type": "code",
   "execution_count": 21,
   "id": "53ac7fac-e201-44c4-9700-75de5e0f26f1",
   "metadata": {},
   "outputs": [
    {
     "name": "stderr",
     "output_type": "stream",
     "text": [
      "progress: 100%|███████████████████████████████| 381/381 [17:59<00:00,  2.83s/it]\n"
     ]
    }
   ],
   "source": [
    "day_m_info = pdt_image_scrapping(day_m_info)"
   ]
  },
  {
   "cell_type": "code",
   "execution_count": 22,
   "id": "380b81c4-d47b-4f86-91ab-fb038bd6f3cd",
   "metadata": {},
   "outputs": [],
   "source": [
    "day_m_info.to_csv('../data/day_m_pdt_details.csv', index = False )"
   ]
  },
  {
   "cell_type": "code",
   "execution_count": 23,
   "id": "5f76cf7a-361c-451b-9c36-c58da88917ca",
   "metadata": {},
   "outputs": [
    {
     "name": "stderr",
     "output_type": "stream",
     "text": [
      "progress: 100%|███████████████████████████████| 197/197 [09:43<00:00,  2.96s/it]\n"
     ]
    }
   ],
   "source": [
    "night_cream_info = pdt_desc_scraper(night_cream_info)"
   ]
  },
  {
   "cell_type": "code",
   "execution_count": 24,
   "id": "33714088-0d92-4014-9d27-54a35d2bbf03",
   "metadata": {},
   "outputs": [
    {
     "name": "stderr",
     "output_type": "stream",
     "text": [
      "progress: 100%|███████████████████████████████| 197/197 [11:11<00:00,  3.41s/it]\n"
     ]
    }
   ],
   "source": [
    "night_cream_info = pdt_claims_scrapping(night_cream_info)"
   ]
  },
  {
   "cell_type": "code",
   "execution_count": 25,
   "id": "87018f47-9ac9-4af4-b8a8-20c81c7c5dab",
   "metadata": {},
   "outputs": [
    {
     "name": "stderr",
     "output_type": "stream",
     "text": [
      "progress: 100%|███████████████████████████████| 197/197 [13:14<00:00,  4.03s/it]\n"
     ]
    }
   ],
   "source": [
    "night_cream_info = pdt_ingredients_scrapping(night_cream_info)"
   ]
  },
  {
   "cell_type": "code",
   "execution_count": 26,
   "id": "d1912f9d-0247-4ebd-bc47-e11311e6a85d",
   "metadata": {},
   "outputs": [
    {
     "name": "stderr",
     "output_type": "stream",
     "text": [
      "progress: 100%|███████████████████████████████| 197/197 [09:35<00:00,  2.92s/it]\n"
     ]
    }
   ],
   "source": [
    "night_cream_info = pdt_image_scrapping(night_cream_info)"
   ]
  },
  {
   "cell_type": "code",
   "execution_count": 27,
   "id": "27b1810c-08ab-4b84-8c3d-3cb1a265aa83",
   "metadata": {},
   "outputs": [],
   "source": [
    "night_cream_info.to_csv('../data/night_cream_pdt_details.csv', index = False )"
   ]
  },
  {
   "cell_type": "code",
   "execution_count": 28,
   "id": "63b086f7-da2c-446a-882a-b4d77d1290bf",
   "metadata": {},
   "outputs": [
    {
     "name": "stderr",
     "output_type": "stream",
     "text": [
      "progress: 100%|█████████████████████████████████| 80/80 [04:24<00:00,  3.30s/it]\n"
     ]
    }
   ],
   "source": [
    "sunscreen_info = pdt_desc_scraper(sunscreen_info)"
   ]
  },
  {
   "cell_type": "code",
   "execution_count": 29,
   "id": "0ddd9d12-fa54-466d-b01f-8760c838ab2d",
   "metadata": {},
   "outputs": [
    {
     "name": "stderr",
     "output_type": "stream",
     "text": [
      "progress: 100%|█████████████████████████████████| 80/80 [04:18<00:00,  3.23s/it]\n"
     ]
    }
   ],
   "source": [
    "sunscreen_info = pdt_claims_scrapping(sunscreen_info)"
   ]
  },
  {
   "cell_type": "code",
   "execution_count": 30,
   "id": "18e883dc-a76a-49e5-98f3-0b911b5055d6",
   "metadata": {},
   "outputs": [
    {
     "name": "stderr",
     "output_type": "stream",
     "text": [
      "progress: 100%|█████████████████████████████████| 80/80 [04:49<00:00,  3.62s/it]\n"
     ]
    }
   ],
   "source": [
    "sunscreen_info = pdt_ingredients_scrapping(sunscreen_info)"
   ]
  },
  {
   "cell_type": "code",
   "execution_count": 31,
   "id": "eaa28ba2-2651-4393-a80d-ed7084844869",
   "metadata": {},
   "outputs": [
    {
     "name": "stderr",
     "output_type": "stream",
     "text": [
      "progress: 100%|█████████████████████████████████| 80/80 [03:48<00:00,  2.85s/it]\n"
     ]
    }
   ],
   "source": [
    "sunscreen_info = pdt_image_scrapping(sunscreen_info)"
   ]
  },
  {
   "cell_type": "code",
   "execution_count": 32,
   "id": "05905d14-724e-4c64-8f3b-1055ea24d88e",
   "metadata": {},
   "outputs": [],
   "source": [
    "sunscreen_info.to_csv('../data/sunscreen_pdt_details.csv', index = False )"
   ]
  }
 ],
 "metadata": {
  "kernelspec": {
   "display_name": "Python 3 (ipykernel)",
   "language": "python",
   "name": "python3"
  },
  "language_info": {
   "codemirror_mode": {
    "name": "ipython",
    "version": 3
   },
   "file_extension": ".py",
   "mimetype": "text/x-python",
   "name": "python",
   "nbconvert_exporter": "python",
   "pygments_lexer": "ipython3",
   "version": "3.8.13"
  }
 },
 "nbformat": 4,
 "nbformat_minor": 5
}
