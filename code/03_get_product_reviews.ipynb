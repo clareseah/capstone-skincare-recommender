{
 "cells": [
  {
   "cell_type": "markdown",
   "id": "d812cc14-b234-4b53-8164-00712bc31b1b",
   "metadata": {},
   "source": [
    "<img src=\"../images/cs_logo_pink.png\" style=\"float: left; margin: 36px 20px 0 0; height: 60px\">\n",
    "\n",
    "# Capstone Project - Cos Skin <br><i style = \"font-size:16px\">Your skin but better</i>"
   ]
  },
  {
   "cell_type": "markdown",
   "id": "4a9a1771-614d-42d3-9f0a-a29288c09538",
   "metadata": {
    "tags": []
   },
   "source": [
    "## Notebook 3: Data Collection Part 3 of 3\n",
    "Notebook 1: Introduction & Data Collection Part 1 of 3<br>\n",
    "Notebook 2: Data Collection Part 2 of 3<br>\n",
    "<b>Notebook 3: Data Collection Part 3 of 3<br></b>\n",
    "Notebook 4: EDA & Data Cleaning<br>\n",
    "Notebook 5: Preprocessing<br>\n",
    "Notebook 6: Modelling<br>\n",
    "Notebook 7: Streamlit "
   ]
  },
  {
   "cell_type": "markdown",
   "id": "7387db99-299f-46a3-bf4a-1aad2312f3ad",
   "metadata": {},
   "source": [
    "In this notebook, I will be scraping for user reviews per product. Some popular products have over 10 000 reviews while new products tend to have 0 reviews. Hence I am only scraping 100 reviews per product for simple sentiment analysis to determine the impact of user reviews on recommendations. \n",
    "\n",
    "I used APIs to scrape for reviews per product. Regex was used to create query urls for scraping."
   ]
  },
  {
   "cell_type": "code",
   "execution_count": 1,
   "id": "9c7db5d5-c85a-42e6-a0b8-b6d82bfb355d",
   "metadata": {},
   "outputs": [],
   "source": [
    "import re\n",
    "import requests\n",
    "import pandas as pd\n",
    "from tqdm import tqdm"
   ]
  },
  {
   "cell_type": "code",
   "execution_count": 2,
   "id": "108d6538-bcbc-4ee2-b405-f64cb962e426",
   "metadata": {},
   "outputs": [],
   "source": [
    "# import datasets\n",
    "cleanser = pd.read_csv('../data/cleanser_pdts.csv')\n",
    "toner = pd.read_csv('../data/toner_pdts.csv')\n",
    "day_moisturizer = pd.read_csv('../data/day_moisturizer_pdts.csv')\n",
    "night_cream = pd.read_csv('../data/night_cream_pdts.csv')\n",
    "sunscreen = pd.read_csv('../data/sunscreen_pdts.csv')"
   ]
  },
  {
   "cell_type": "code",
   "execution_count": 3,
   "id": "4eaded7a-161e-49e0-9682-26b86c5c2d6d",
   "metadata": {},
   "outputs": [],
   "source": [
    "# creating individual url per product for api queries\n",
    "def api_query_url(df):\n",
    "    pdt_paths = []\n",
    "    for i in range(len(df['pdt_url'])):\n",
    "        pdt_url = df.iloc[i]['pdt_url']\n",
    "\n",
    "        try:\n",
    "            pdt_path = re.search(\"(?<=/products/).+?(?=/)\", pdt_url)[0]\n",
    "            pdt_paths.append(f'https://www.sephora.sg/api/v2.4/products/{pdt_path}/reviews')\n",
    "\n",
    "        except:\n",
    "            pdt_path = re.search(\"(?<=/products/).+\", pdt_url)[0]\n",
    "            pdt_paths.append(f'https://www.sephora.sg/api/v2.4/products/{pdt_path}/reviews')\n",
    "            \n",
    "    df['query_url'] = pdt_paths\n",
    "    \n",
    "    return df\n",
    "\n",
    "# function to scrape product reviews\n",
    "# def reviews_scraper(df, cat_reviews_df):\n",
    "#     query_url = df['query_url']\n",
    "#     unique_id = df['unique_id']\n",
    "#     review_pdt = []\n",
    "#     reviewer_country = []\n",
    "#     review_title = []\n",
    "#     review_text = []\n",
    "    \n",
    "#     for i in tqdm(range(len(query_url)), desc = 'progress'):\n",
    "#         request_url = query_url[i]\n",
    "#         review_pdt_id = unique_id[i]\n",
    "        \n",
    "#         querystring = {\"page[number]\": \"1\",\"page[size]\":\"10\",\"sort\":\"recent\"}\n",
    "\n",
    "#         headers = {\n",
    "#             \"authority\": \"www.sephora.sg\",\n",
    "#             \"accept\": \"*/*\",\n",
    "#             \"accept-language\": \"en-SG\",\n",
    "#         }\n",
    "\n",
    "#         response = requests.request(\"GET\", request_url, headers=headers, params=querystring)\n",
    "#         data = response.json()\n",
    "        \n",
    "#         for p in range(1, data['meta']['total-pages']+1):\n",
    "            \n",
    "#             querystring_reviews = {\"page[number]\":f\"{p}\",\"page[size]\":\"10\",\"sort\":\"recent\"}\n",
    "\n",
    "#             headers = {\n",
    "#                 \"authority\": \"www.sephora.sg\",\n",
    "#                 \"accept\": \"*/*\",\n",
    "#                 \"accept-language\": \"en-SG\",\n",
    "#             }\n",
    "\n",
    "#             response = requests.request(\"GET\", request_url, headers=headers, params=querystring_reviews)\n",
    "#             data = response.json()\n",
    "            \n",
    "#             for r in range(len(data['data'])):\n",
    "#                 country = data['data'][r]['attributes']['country-name']\n",
    "#                 title = data['data'][r]['attributes']['title']\n",
    "#                 text = data['data'][r]['attributes']['text']\n",
    "\n",
    "#                 review_pdt.append(review_pdt_id)\n",
    "#                 reviewer_country.append(country)\n",
    "#                 review_title.append(title)\n",
    "#                 review_text.append(text)\n",
    "                \n",
    "#     cat_reviews_df['unique_id'] = review_pdt\n",
    "#     cat_reviews_df['review_country'] = reviewer_country\n",
    "#     cat_reviews_df['review_title'] = review_title\n",
    "#     cat_reviews_df['review_text'] = review_text\n",
    "    \n",
    "#     return cat_reviews_df\n",
    "\n",
    "# function to scrape product reviews, limited to 100 reveiws per product\n",
    "def reviews_scraper_lim(df, cat_reviews_df):\n",
    "    query_url = df['query_url']\n",
    "    unique_id = df['unique_id']\n",
    "    review_pdt = []\n",
    "    reviewer_country = []\n",
    "    review_title = []\n",
    "    review_text = []\n",
    "    \n",
    "    for i in tqdm(range(len(query_url)), desc = 'progress'):\n",
    "        request_url = query_url[i]\n",
    "        review_pdt_id = unique_id[i]\n",
    "        \n",
    "        querystring = {\"page[number]\": \"1\",\"page[size]\":\"10\",\"sort\":\"recent\"}\n",
    "\n",
    "        headers = {\n",
    "            \"authority\": \"www.sephora.sg\",\n",
    "            \"accept\": \"*/*\",\n",
    "            \"accept-language\": \"en-SG\",\n",
    "        }\n",
    "\n",
    "        response = requests.request(\"GET\", request_url, headers=headers, params=querystring)\n",
    "        data = response.json()\n",
    "        \n",
    "        num_page_reviews = data['meta']['total-pages']\n",
    "        \n",
    "        if num_page_reviews <= 10:\n",
    "        \n",
    "            for p in range(1, num_page_reviews+1):\n",
    "\n",
    "                querystring_reviews = {\"page[number]\":f\"{p}\",\"page[size]\":\"10\",\"sort\":\"recent\"}\n",
    "\n",
    "                headers = {\n",
    "                    \"authority\": \"www.sephora.sg\",\n",
    "                    \"accept\": \"*/*\",\n",
    "                    \"accept-language\": \"en-SG\",\n",
    "                }\n",
    "\n",
    "                response = requests.request(\"GET\", request_url, headers=headers, params=querystring_reviews)\n",
    "                data = response.json()\n",
    "\n",
    "                for r in range(len(data['data'])):\n",
    "                    country = data['data'][r]['attributes']['country-name']\n",
    "                    title = data['data'][r]['attributes']['title']\n",
    "                    text = data['data'][r]['attributes']['text']\n",
    "\n",
    "                    review_pdt.append(review_pdt_id)\n",
    "                    reviewer_country.append(country)\n",
    "                    review_title.append(title)\n",
    "                    review_text.append(text)\n",
    "        else:\n",
    "            for p in range(1, 11):\n",
    "\n",
    "                querystring_reviews = {\"page[number]\":f\"{p}\",\"page[size]\":\"10\",\"sort\":\"recent\"}\n",
    "\n",
    "                headers = {\n",
    "                    \"authority\": \"www.sephora.sg\",\n",
    "                    \"accept\": \"*/*\",\n",
    "                    \"accept-language\": \"en-SG\",\n",
    "                }\n",
    "\n",
    "                response = requests.request(\"GET\", request_url, headers=headers, params=querystring_reviews)\n",
    "                data = response.json()\n",
    "\n",
    "                for r in range(len(data['data'])):\n",
    "                    country = data['data'][r]['attributes']['country-name']\n",
    "                    title = data['data'][r]['attributes']['title']\n",
    "                    text = data['data'][r]['attributes']['text']\n",
    "\n",
    "                    review_pdt.append(review_pdt_id)\n",
    "                    reviewer_country.append(country)\n",
    "                    review_title.append(title)\n",
    "                    review_text.append(text)\n",
    "                \n",
    "    cat_reviews_df['unique_id'] = review_pdt\n",
    "    cat_reviews_df['review_country'] = reviewer_country\n",
    "    cat_reviews_df['review_title'] = review_title\n",
    "    cat_reviews_df['review_text'] = review_text\n",
    "    \n",
    "    return cat_reviews_df"
   ]
  },
  {
   "cell_type": "code",
   "execution_count": 4,
   "id": "b5d2c600-2e29-40d6-9a08-3a6cb768aeab",
   "metadata": {},
   "outputs": [],
   "source": [
    "cleanser = api_query_url(cleanser)\n",
    "toner = api_query_url(toner)\n",
    "day_moisturizer = api_query_url(day_moisturizer)\n",
    "night_cream = api_query_url(night_cream)\n",
    "sunscreen = api_query_url(sunscreen)"
   ]
  },
  {
   "cell_type": "code",
   "execution_count": 5,
   "id": "9a40e04a-30dd-4965-a420-262189f703dc",
   "metadata": {
    "tags": []
   },
   "outputs": [
    {
     "name": "stderr",
     "output_type": "stream",
     "text": [
      "progress: 100%|█████████████████████████████| 275/275 [3:56:56<00:00, 51.70s/it]\n"
     ]
    }
   ],
   "source": [
    "cleanser_reviews = pd.DataFrame()\n",
    "cleanser_pdt_reviews = reviews_scraper_lim(cleanser, cleanser_reviews)"
   ]
  },
  {
   "cell_type": "code",
   "execution_count": 6,
   "id": "c4813051-4d7b-4766-acfa-1e71929354b0",
   "metadata": {},
   "outputs": [],
   "source": [
    "cleanser_pdt_reviews.to_csv('../data/cleanser_pdt_reviews.csv', index = False )"
   ]
  },
  {
   "cell_type": "code",
   "execution_count": 7,
   "id": "8c8738f1-fd77-4e81-bbfe-7a4a38cce93d",
   "metadata": {
    "tags": []
   },
   "outputs": [
    {
     "name": "stderr",
     "output_type": "stream",
     "text": [
      "progress: 100%|█████████████████████████████| 160/160 [1:41:33<00:00, 38.09s/it]\n"
     ]
    }
   ],
   "source": [
    "toner_reviews = pd.DataFrame()\n",
    "toner_pdt_reviews = reviews_scraper_lim(toner, toner_reviews)"
   ]
  },
  {
   "cell_type": "code",
   "execution_count": 8,
   "id": "9218ae51-74ef-4c64-beaf-4213a2975829",
   "metadata": {},
   "outputs": [],
   "source": [
    "toner_pdt_reviews.to_csv('../data/toner_pdt_reviews.csv', index = False )"
   ]
  },
  {
   "cell_type": "code",
   "execution_count": 13,
   "id": "4afe9f49-3d5f-46cc-af3e-d80e3170ca71",
   "metadata": {},
   "outputs": [
    {
     "name": "stderr",
     "output_type": "stream",
     "text": [
      "progress: 100%|███████████████████████████████| 381/381 [40:49<00:00,  6.43s/it]\n"
     ]
    }
   ],
   "source": [
    "day_moisturizer_reviews = pd.DataFrame()\n",
    "day_moisturizer_pdt_reviews = reviews_scraper_lim(day_moisturizer, day_moisturizer_reviews)"
   ]
  },
  {
   "cell_type": "code",
   "execution_count": 14,
   "id": "aac31f5a-bcf3-455f-9fc2-553c679eb9eb",
   "metadata": {},
   "outputs": [],
   "source": [
    "day_moisturizer_pdt_reviews.to_csv('../data/day_moisturizer_pdt_reviews.csv', index = False )"
   ]
  },
  {
   "cell_type": "code",
   "execution_count": 16,
   "id": "c9c5bcda-4b23-4775-aa57-412a0eed7270",
   "metadata": {},
   "outputs": [
    {
     "name": "stderr",
     "output_type": "stream",
     "text": [
      "progress: 100%|███████████████████████████████| 197/197 [17:33<00:00,  5.35s/it]\n"
     ]
    }
   ],
   "source": [
    "night_cream_reviews = pd.DataFrame()\n",
    "night_cream_pdt_reviews = reviews_scraper_lim(night_cream, night_cream_reviews)"
   ]
  },
  {
   "cell_type": "code",
   "execution_count": 17,
   "id": "a748870e-34b1-45fa-bbac-e83cd49b7d69",
   "metadata": {},
   "outputs": [],
   "source": [
    "night_cream_pdt_reviews.to_csv('../data/night_cream_pdt_reviews.csv', index = False )"
   ]
  },
  {
   "cell_type": "code",
   "execution_count": 18,
   "id": "e18b1cd4-cd05-46ba-8054-29cb1b62dd66",
   "metadata": {},
   "outputs": [
    {
     "name": "stderr",
     "output_type": "stream",
     "text": [
      "progress: 100%|█████████████████████████████████| 80/80 [07:04<00:00,  5.31s/it]\n"
     ]
    }
   ],
   "source": [
    "sunscreen_reviews = pd.DataFrame()\n",
    "sunscreen_pdt_reviews = reviews_scraper_lim(sunscreen, sunscreen_reviews)"
   ]
  },
  {
   "cell_type": "code",
   "execution_count": 19,
   "id": "aa22a38e-b610-40c6-8d14-f3e374066030",
   "metadata": {},
   "outputs": [],
   "source": [
    "sunscreen_pdt_reviews.to_csv('../data/sunscreen_pdt_reviews.csv', index = False )"
   ]
  }
 ],
 "metadata": {
  "kernelspec": {
   "display_name": "Python 3 (ipykernel)",
   "language": "python",
   "name": "python3"
  },
  "language_info": {
   "codemirror_mode": {
    "name": "ipython",
    "version": 3
   },
   "file_extension": ".py",
   "mimetype": "text/x-python",
   "name": "python",
   "nbconvert_exporter": "python",
   "pygments_lexer": "ipython3",
   "version": "3.8.13"
  }
 },
 "nbformat": 4,
 "nbformat_minor": 5
}
