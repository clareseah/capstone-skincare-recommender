{
 "cells": [
  {
   "cell_type": "markdown",
   "id": "8795a846-1b0a-4890-90b0-56e1ae0fa427",
   "metadata": {},
   "source": [
    "<img src=\"../images/cs_logo_pink.PNG\" style=\"float: left; margin: 36px 20px 0 0; height: 60px\">\n",
    "\n",
    "# Capstone Project - Cos Skin <br><i style = \"font-size:16px\">Your skin but better</i>"
   ]
  },
  {
   "cell_type": "markdown",
   "id": "102869e3-11a3-4a87-b28c-68507a0e9796",
   "metadata": {},
   "source": [
    "## Notebook 6: Modelling\n",
    "Notebook 1: Introduction & Data Collection Part 1 of 3<br>\n",
    "Notebook 2: Data Collection Part 2 of 3<br>\n",
    "Notebook 3: Data Collection Part 3 of 3<br>\n",
    "Notebook 4: EDA & Data Cleaning<br>\n",
    "Notebook 5: Pre-processing<br>\n",
    "<b>Notebook 6: Modeling<br></b>\n",
    "Notebook 7: App Deployment"
   ]
  },
  {
   "cell_type": "code",
   "execution_count": 1,
   "id": "66472b97-2ac1-48b0-be02-1b2e968a06f5",
   "metadata": {},
   "outputs": [],
   "source": [
    "# import libraries\n",
    "\n",
    "import pandas as pd\n",
    "import numpy as np \n",
    "import seaborn as sns\n",
    "from sklearn.metrics.pairwise import cosine_similarity\n",
    "import pickle"
   ]
  },
  {
   "cell_type": "code",
   "execution_count": 2,
   "id": "09517699-25e3-4890-bdf5-5b1b839d4a82",
   "metadata": {},
   "outputs": [],
   "source": [
    "# import datasets\n",
    "dummified_cleanser = pd.read_csv('../data/dummified_cleanser.csv', index_col = 0)\n",
    "dummified_toner = pd.read_csv('../data/dummified_toner.csv', index_col = 0)\n",
    "dummified_day_moisturizer = pd.read_csv('../data/dummified_day_moisturizer.csv', index_col = 0)\n",
    "dummified_night_cream = pd.read_csv('../data/dummified_night_cream.csv', index_col = 0)\n",
    "dummified_sunscreen = pd.read_csv('../data/dummified_sunscreen.csv', index_col = 0)"
   ]
  },
  {
   "cell_type": "code",
   "execution_count": 3,
   "id": "bd04c92c-9cf5-48b7-af9d-331dcac3a52b",
   "metadata": {},
   "outputs": [],
   "source": [
    "# Set unique id as index\n",
    "def set_unique_id_index(df):\n",
    "    df_dummified = df.set_index(keys = 'unique_id')\n",
    "    return df_dummified"
   ]
  },
  {
   "cell_type": "code",
   "execution_count": 4,
   "id": "70075eb4-8cd7-412c-b4b9-4960836732b3",
   "metadata": {},
   "outputs": [],
   "source": [
    "# Set unique id as index\n",
    "dummified_cleanser = set_unique_id_index(dummified_cleanser)\n",
    "dummified_toner = set_unique_id_index(dummified_toner)\n",
    "dummified_day_moisturizer = set_unique_id_index(dummified_day_moisturizer)\n",
    "dummified_night_cream = set_unique_id_index(dummified_night_cream)\n",
    "dummified_sunscreen = set_unique_id_index(dummified_sunscreen)"
   ]
  },
  {
   "cell_type": "markdown",
   "id": "4e3ca15a-f1e7-4887-b0fe-adb4e4f51b0d",
   "metadata": {},
   "source": [
    "## Profile-Based Recommendations"
   ]
  },
  {
   "cell_type": "markdown",
   "id": "4f44136c-fd8b-423c-8d34-7ed3a74bc918",
   "metadata": {},
   "source": [
    "In this segment, I will use content-based filtering to generate recommendations for _new users_ using profile-based recommendations. <br>\n",
    "This is because profile-based recommendations are immune to the cold-start problem. "
   ]
  },
  {
   "cell_type": "code",
   "execution_count": 5,
   "id": "8ef362b6-90cf-498c-a5d8-01395390472a",
   "metadata": {},
   "outputs": [
    {
     "name": "stdout",
     "output_type": "stream",
     "text": [
      "(265, 36)\n"
     ]
    },
    {
     "data": {
      "text/html": [
       "<div>\n",
       "<style scoped>\n",
       "    .dataframe tbody tr th:only-of-type {\n",
       "        vertical-align: middle;\n",
       "    }\n",
       "\n",
       "    .dataframe tbody tr th {\n",
       "        vertical-align: top;\n",
       "    }\n",
       "\n",
       "    .dataframe thead th {\n",
       "        text-align: right;\n",
       "    }\n",
       "</style>\n",
       "<table border=\"1\" class=\"dataframe\">\n",
       "  <thead>\n",
       "    <tr style=\"text-align: right;\">\n",
       "      <th></th>\n",
       "      <th>rating</th>\n",
       "      <th>Combination</th>\n",
       "      <th>Dry</th>\n",
       "      <th>Normal</th>\n",
       "      <th>Oily</th>\n",
       "      <th>Sensitive</th>\n",
       "      <th>Ageing</th>\n",
       "      <th>Blackheads</th>\n",
       "      <th>Blemishes</th>\n",
       "      <th>DarkCircles</th>\n",
       "      <th>...</th>\n",
       "      <th>Liquid</th>\n",
       "      <th>Lotion</th>\n",
       "      <th>Oil</th>\n",
       "      <th>Powder</th>\n",
       "      <th>Wipe</th>\n",
       "      <th>20s</th>\n",
       "      <th>30s</th>\n",
       "      <th>40s</th>\n",
       "      <th>50+</th>\n",
       "      <th>Under20</th>\n",
       "    </tr>\n",
       "    <tr>\n",
       "      <th>unique_id</th>\n",
       "      <th></th>\n",
       "      <th></th>\n",
       "      <th></th>\n",
       "      <th></th>\n",
       "      <th></th>\n",
       "      <th></th>\n",
       "      <th></th>\n",
       "      <th></th>\n",
       "      <th></th>\n",
       "      <th></th>\n",
       "      <th></th>\n",
       "      <th></th>\n",
       "      <th></th>\n",
       "      <th></th>\n",
       "      <th></th>\n",
       "      <th></th>\n",
       "      <th></th>\n",
       "      <th></th>\n",
       "      <th></th>\n",
       "      <th></th>\n",
       "      <th></th>\n",
       "    </tr>\n",
       "  </thead>\n",
       "  <tbody>\n",
       "    <tr>\n",
       "      <th>FRESH-Soy Face Cleanser</th>\n",
       "      <td>4.4</td>\n",
       "      <td>1</td>\n",
       "      <td>1</td>\n",
       "      <td>1</td>\n",
       "      <td>1</td>\n",
       "      <td>0</td>\n",
       "      <td>1</td>\n",
       "      <td>0</td>\n",
       "      <td>0</td>\n",
       "      <td>0</td>\n",
       "      <td>...</td>\n",
       "      <td>0</td>\n",
       "      <td>0</td>\n",
       "      <td>0</td>\n",
       "      <td>0</td>\n",
       "      <td>0</td>\n",
       "      <td>1</td>\n",
       "      <td>1</td>\n",
       "      <td>1</td>\n",
       "      <td>1</td>\n",
       "      <td>1</td>\n",
       "    </tr>\n",
       "    <tr>\n",
       "      <th>THE ORDINARY-Squalane Cleanser</th>\n",
       "      <td>4.0</td>\n",
       "      <td>1</td>\n",
       "      <td>1</td>\n",
       "      <td>1</td>\n",
       "      <td>1</td>\n",
       "      <td>0</td>\n",
       "      <td>0</td>\n",
       "      <td>0</td>\n",
       "      <td>0</td>\n",
       "      <td>0</td>\n",
       "      <td>...</td>\n",
       "      <td>1</td>\n",
       "      <td>0</td>\n",
       "      <td>0</td>\n",
       "      <td>0</td>\n",
       "      <td>0</td>\n",
       "      <td>1</td>\n",
       "      <td>1</td>\n",
       "      <td>1</td>\n",
       "      <td>1</td>\n",
       "      <td>1</td>\n",
       "    </tr>\n",
       "    <tr>\n",
       "      <th>SEPHORA COLLECTION-Cleansing Face Wipe</th>\n",
       "      <td>4.1</td>\n",
       "      <td>1</td>\n",
       "      <td>1</td>\n",
       "      <td>1</td>\n",
       "      <td>1</td>\n",
       "      <td>1</td>\n",
       "      <td>0</td>\n",
       "      <td>0</td>\n",
       "      <td>0</td>\n",
       "      <td>0</td>\n",
       "      <td>...</td>\n",
       "      <td>0</td>\n",
       "      <td>0</td>\n",
       "      <td>0</td>\n",
       "      <td>0</td>\n",
       "      <td>1</td>\n",
       "      <td>1</td>\n",
       "      <td>1</td>\n",
       "      <td>1</td>\n",
       "      <td>1</td>\n",
       "      <td>1</td>\n",
       "    </tr>\n",
       "    <tr>\n",
       "      <th>FARMACY-Green Clean Makeup Meltaway Cleansing Balm</th>\n",
       "      <td>4.7</td>\n",
       "      <td>1</td>\n",
       "      <td>1</td>\n",
       "      <td>1</td>\n",
       "      <td>1</td>\n",
       "      <td>0</td>\n",
       "      <td>0</td>\n",
       "      <td>0</td>\n",
       "      <td>0</td>\n",
       "      <td>0</td>\n",
       "      <td>...</td>\n",
       "      <td>0</td>\n",
       "      <td>0</td>\n",
       "      <td>0</td>\n",
       "      <td>0</td>\n",
       "      <td>0</td>\n",
       "      <td>1</td>\n",
       "      <td>1</td>\n",
       "      <td>1</td>\n",
       "      <td>1</td>\n",
       "      <td>1</td>\n",
       "    </tr>\n",
       "    <tr>\n",
       "      <th>SEPHORA COLLECTION-Triple Action Cleansing Micellar Water</th>\n",
       "      <td>4.4</td>\n",
       "      <td>1</td>\n",
       "      <td>1</td>\n",
       "      <td>1</td>\n",
       "      <td>1</td>\n",
       "      <td>1</td>\n",
       "      <td>0</td>\n",
       "      <td>0</td>\n",
       "      <td>0</td>\n",
       "      <td>0</td>\n",
       "      <td>...</td>\n",
       "      <td>1</td>\n",
       "      <td>0</td>\n",
       "      <td>0</td>\n",
       "      <td>0</td>\n",
       "      <td>0</td>\n",
       "      <td>1</td>\n",
       "      <td>1</td>\n",
       "      <td>1</td>\n",
       "      <td>1</td>\n",
       "      <td>1</td>\n",
       "    </tr>\n",
       "  </tbody>\n",
       "</table>\n",
       "<p>5 rows × 36 columns</p>\n",
       "</div>"
      ],
      "text/plain": [
       "                                                    rating  Combination  Dry  \\\n",
       "unique_id                                                                      \n",
       "FRESH-Soy Face Cleanser                                4.4            1    1   \n",
       "THE ORDINARY-Squalane Cleanser                         4.0            1    1   \n",
       "SEPHORA COLLECTION-Cleansing Face Wipe                 4.1            1    1   \n",
       "FARMACY-Green Clean Makeup Meltaway Cleansing Balm     4.7            1    1   \n",
       "SEPHORA COLLECTION-Triple Action Cleansing Mice...     4.4            1    1   \n",
       "\n",
       "                                                    Normal  Oily  Sensitive  \\\n",
       "unique_id                                                                     \n",
       "FRESH-Soy Face Cleanser                                  1     1          0   \n",
       "THE ORDINARY-Squalane Cleanser                           1     1          0   \n",
       "SEPHORA COLLECTION-Cleansing Face Wipe                   1     1          1   \n",
       "FARMACY-Green Clean Makeup Meltaway Cleansing Balm       1     1          0   \n",
       "SEPHORA COLLECTION-Triple Action Cleansing Mice...       1     1          1   \n",
       "\n",
       "                                                    Ageing  Blackheads  \\\n",
       "unique_id                                                                \n",
       "FRESH-Soy Face Cleanser                                  1           0   \n",
       "THE ORDINARY-Squalane Cleanser                           0           0   \n",
       "SEPHORA COLLECTION-Cleansing Face Wipe                   0           0   \n",
       "FARMACY-Green Clean Makeup Meltaway Cleansing Balm       0           0   \n",
       "SEPHORA COLLECTION-Triple Action Cleansing Mice...       0           0   \n",
       "\n",
       "                                                    Blemishes  DarkCircles  \\\n",
       "unique_id                                                                    \n",
       "FRESH-Soy Face Cleanser                                     0            0   \n",
       "THE ORDINARY-Squalane Cleanser                              0            0   \n",
       "SEPHORA COLLECTION-Cleansing Face Wipe                      0            0   \n",
       "FARMACY-Green Clean Makeup Meltaway Cleansing Balm          0            0   \n",
       "SEPHORA COLLECTION-Triple Action Cleansing Mice...          0            0   \n",
       "\n",
       "                                                    ...  Liquid  Lotion  Oil  \\\n",
       "unique_id                                           ...                        \n",
       "FRESH-Soy Face Cleanser                             ...       0       0    0   \n",
       "THE ORDINARY-Squalane Cleanser                      ...       1       0    0   \n",
       "SEPHORA COLLECTION-Cleansing Face Wipe              ...       0       0    0   \n",
       "FARMACY-Green Clean Makeup Meltaway Cleansing Balm  ...       0       0    0   \n",
       "SEPHORA COLLECTION-Triple Action Cleansing Mice...  ...       1       0    0   \n",
       "\n",
       "                                                    Powder  Wipe  20s  30s  \\\n",
       "unique_id                                                                    \n",
       "FRESH-Soy Face Cleanser                                  0     0    1    1   \n",
       "THE ORDINARY-Squalane Cleanser                           0     0    1    1   \n",
       "SEPHORA COLLECTION-Cleansing Face Wipe                   0     1    1    1   \n",
       "FARMACY-Green Clean Makeup Meltaway Cleansing Balm       0     0    1    1   \n",
       "SEPHORA COLLECTION-Triple Action Cleansing Mice...       0     0    1    1   \n",
       "\n",
       "                                                    40s  50+  Under20  \n",
       "unique_id                                                              \n",
       "FRESH-Soy Face Cleanser                               1    1        1  \n",
       "THE ORDINARY-Squalane Cleanser                        1    1        1  \n",
       "SEPHORA COLLECTION-Cleansing Face Wipe                1    1        1  \n",
       "FARMACY-Green Clean Makeup Meltaway Cleansing Balm    1    1        1  \n",
       "SEPHORA COLLECTION-Triple Action Cleansing Mice...    1    1        1  \n",
       "\n",
       "[5 rows x 36 columns]"
      ]
     },
     "execution_count": 5,
     "metadata": {},
     "output_type": "execute_result"
    }
   ],
   "source": [
    "# Cleanser dataset vector\n",
    "print(dummified_cleanser.shape)\n",
    "dummified_cleanser.head()"
   ]
  },
  {
   "cell_type": "markdown",
   "id": "797c7320-38f6-40d3-b433-45d90ff8758d",
   "metadata": {},
   "source": [
    "### Get User Recommendations"
   ]
  },
  {
   "cell_type": "markdown",
   "id": "b1820e67-7621-4f4b-ba6b-fbe5147ce316",
   "metadata": {},
   "source": [
    "#### Cleanser Recommendation"
   ]
  },
  {
   "cell_type": "code",
   "execution_count": 6,
   "id": "1959b6c8-d0f0-4981-ad4a-e84655e6d132",
   "metadata": {},
   "outputs": [
    {
     "data": {
      "text/plain": [
       "rating                    0.0\n",
       "Combination               0.0\n",
       "Dry                       0.0\n",
       "Normal                    0.0\n",
       "Oily                      0.0\n",
       "Sensitive                 0.0\n",
       "Ageing                    0.0\n",
       "Blackheads                0.0\n",
       "Blemishes                 0.0\n",
       "DarkCircles               0.0\n",
       "Dryness                   0.0\n",
       "Dullness                  0.0\n",
       "FineLines&Wrinkles        0.0\n",
       "Firmness&Elasticity       0.0\n",
       "Oiliness                  0.0\n",
       "Pigmentation&DarkSpots    0.0\n",
       "Puffiness                 0.0\n",
       "UnevenSkinTexture         0.0\n",
       "UnevenSkinTone            0.0\n",
       "VisiblePores              0.0\n",
       "Balm                      0.0\n",
       "Bar                       0.0\n",
       "ClayMud                   0.0\n",
       "Cream                     0.0\n",
       "Foam                      0.0\n",
       "Gel                       0.0\n",
       "Liquid                    0.0\n",
       "Lotion                    0.0\n",
       "Oil                       0.0\n",
       "Powder                    0.0\n",
       "Wipe                      0.0\n",
       "20s                       0.0\n",
       "30s                       0.0\n",
       "40s                       0.0\n",
       "50+                       0.0\n",
       "Under20                   0.0\n",
       "dtype: float64"
      ]
     },
     "execution_count": 6,
     "metadata": {},
     "output_type": "execute_result"
    }
   ],
   "source": [
    "# Create a new vector for a 'new user' by initializing all features in the dataset above\n",
    "cleanser_cols = dummified_cleanser.columns # match feature space for new user with the existing dataset\n",
    "cleanser_user_profile = pd.Series(data=np.zeros(len(cleanser_cols)), index=dummified_cleanser.columns) # initialize 0s for all categories to create new user vector\n",
    "cleanser_user_profile"
   ]
  },
  {
   "cell_type": "code",
   "execution_count": 7,
   "id": "6ac5c469-ce49-456c-9e4a-36fe83803497",
   "metadata": {},
   "outputs": [],
   "source": [
    "# assign input values to categories to test recommendations\n",
    "cleanser_user_profile['20s'] = 1\n",
    "cleanser_user_profile['Oily'] = 1\n",
    "cleanser_user_profile['Cream'] = 2\n",
    "cleanser_user_profile['Oiliness'] = 3\n",
    "cleanser_user_profile['rating'] = 1.5"
   ]
  },
  {
   "cell_type": "code",
   "execution_count": 8,
   "id": "4de6856f-609d-465d-8985-1a9d9f0f7e72",
   "metadata": {},
   "outputs": [
    {
     "data": {
      "text/plain": [
       "unique_id\n",
       "SKIN INC-Pure Serum Infused O2 Cleanser                                  14.50\n",
       "SK-II-MEN Moisturizing Cleanser                                          14.20\n",
       "FARMACY-Whipped Greens oil-free foaming cleanser                         13.90\n",
       "INNISFREE-Volcanic Pore Cleansing Foam EX                                13.75\n",
       "DERMALOGICA-Active Clay Cleanser                                         13.75\n",
       "FOREO-Micro-Foam Cleanser                                                13.60\n",
       "LAURA MERCIER-Balancing Foaming Cleanser                                 13.60\n",
       "ORIGINS-Checks and Balances™ Frothy Face Wash                            13.60\n",
       "TATCHA-Clarifying Cleanse And Hydrate Duo (Christmas Limited Edition)    13.60\n",
       "OLE HENRIKSEN-Splashing Stars Cleanser & Scrub Duo                       13.45\n",
       "dtype: float64"
      ]
     },
     "execution_count": 8,
     "metadata": {},
     "output_type": "execute_result"
    }
   ],
   "source": [
    "# Cosine similiarity\n",
    "# Get the dot product between dummified dataset vector and user_profile\n",
    "cleanser_recommendation = np.dot(dummified_cleanser.values, cleanser_user_profile.values)\n",
    "# Convert results to pandas Series \n",
    "cleanser_recommendation = pd.Series(cleanser_recommendation, index = dummified_cleanser.index)\n",
    "# Get the top 10 recommendations for a new user\n",
    "cleanser = cleanser_recommendation.sort_values(ascending = False).head(10)\n",
    "cleanser"
   ]
  },
  {
   "cell_type": "markdown",
   "id": "5889adbb-8b5b-4e3c-9706-074ecaf26fb3",
   "metadata": {},
   "source": [
    "#### Toner Recommendation"
   ]
  },
  {
   "cell_type": "code",
   "execution_count": 9,
   "id": "1ca2ad64-c5f5-4d6d-909b-af4ba9ab8beb",
   "metadata": {},
   "outputs": [
    {
     "data": {
      "text/plain": [
       "rating                    0.0\n",
       "Combination               0.0\n",
       "Dry                       0.0\n",
       "Normal                    0.0\n",
       "Oily                      0.0\n",
       "Sensitive                 0.0\n",
       "Ageing                    0.0\n",
       "Blackheads                0.0\n",
       "Blemishes                 0.0\n",
       "DarkCircles               0.0\n",
       "Dryness                   0.0\n",
       "Dullness                  0.0\n",
       "FineLines&Wrinkles        0.0\n",
       "Firmness&Elasticity       0.0\n",
       "Oiliness                  0.0\n",
       "Pigmentation&DarkSpots    0.0\n",
       "Puffiness                 0.0\n",
       "UnevenSkinTexture         0.0\n",
       "UnevenSkinTone            0.0\n",
       "VisiblePores              0.0\n",
       "Cream                     0.0\n",
       "Gel                       0.0\n",
       "Liquid                    0.0\n",
       "Lotion                    0.0\n",
       "Sheet                     0.0\n",
       "Spray                     0.0\n",
       "Wipe                      0.0\n",
       "20s                       0.0\n",
       "30s                       0.0\n",
       "40s                       0.0\n",
       "50+                       0.0\n",
       "Under20                   0.0\n",
       "dtype: float64"
      ]
     },
     "execution_count": 9,
     "metadata": {},
     "output_type": "execute_result"
    }
   ],
   "source": [
    "# Create a new vector for a 'new user' by initializing all features in the dataset above\n",
    "toner_cols = dummified_toner.columns # match feature space for new user with the existing dataset\n",
    "toner_user_profile = pd.Series(data=np.zeros(len(toner_cols)), index=dummified_toner.columns) # initialize 0s for all categories to create new user vector\n",
    "toner_user_profile"
   ]
  },
  {
   "cell_type": "code",
   "execution_count": 10,
   "id": "9dde767d-63b5-4d20-9fae-a652ee272fa7",
   "metadata": {},
   "outputs": [],
   "source": [
    "# assign input values to categories to test recommendations\n",
    "toner_user_profile['20s'] = 1\n",
    "toner_user_profile['Oily'] = 1\n",
    "toner_user_profile['Cream'] = 2\n",
    "toner_user_profile['Oiliness'] = 3\n",
    "toner_user_profile['rating'] = 1.5"
   ]
  },
  {
   "cell_type": "code",
   "execution_count": 11,
   "id": "b7605d92-243e-4046-b4e8-6568bd218ed9",
   "metadata": {},
   "outputs": [
    {
     "data": {
      "text/plain": [
       "unique_id\n",
       "DRGL-Toner Oil Control                                  12.50\n",
       "INNISFREE-Jeju Volcanic Pore Toner 2X                   12.50\n",
       "DR.JART+-Ctrl-A Teatreement™ Toner                      12.20\n",
       "LANEIGE-Essential Balancing Skin Refiner Light          12.05\n",
       "PIXI-Skintreats Clarity Tonic Clarifying Toner          12.05\n",
       "TATCHA-The Texture Tonic                                12.05\n",
       "CLINIQUE-Clarifying Lotion 1 - Very Dry To Dry Skin     12.05\n",
       "CLINIQUE-Clarifying Lotion 2 - Dry Combination Skin     12.05\n",
       "BIOSSANCE-Squalane + BHA Pore Minimizing Toner          11.75\n",
       "CLINIQUE-Clarifying Lotion 3 - Combination Oily Skin    11.60\n",
       "dtype: float64"
      ]
     },
     "execution_count": 11,
     "metadata": {},
     "output_type": "execute_result"
    }
   ],
   "source": [
    "# Cosine similiarity\n",
    "# Get the dot product between dummified dataset vector and user_profile\n",
    "toner_recommendation = np.dot(dummified_toner.values, toner_user_profile.values)\n",
    "# Convert results to pandas Series \n",
    "toner_recommendation = pd.Series(toner_recommendation, index = dummified_toner.index)\n",
    "# Get the top 10 recommendations for a new user\n",
    "toner = toner_recommendation.sort_values(ascending = False).head(10)\n",
    "toner"
   ]
  },
  {
   "cell_type": "markdown",
   "id": "11f08589-f7e5-4e67-9eb5-cf40fb982eee",
   "metadata": {},
   "source": [
    "#### Day Moisturizer Recommendation"
   ]
  },
  {
   "cell_type": "code",
   "execution_count": 12,
   "id": "845fe5d9-7b78-42e5-aa11-4c496cee5342",
   "metadata": {
    "tags": []
   },
   "outputs": [
    {
     "data": {
      "text/plain": [
       "rating                    0.0\n",
       "Combination               0.0\n",
       "Dry                       0.0\n",
       "Normal                    0.0\n",
       "Oily                      0.0\n",
       "Sensitive                 0.0\n",
       "Ageing                    0.0\n",
       "Blackheads                0.0\n",
       "Blemishes                 0.0\n",
       "DarkCircles               0.0\n",
       "Dryness                   0.0\n",
       "Dullness                  0.0\n",
       "FineLines&Wrinkles        0.0\n",
       "Firmness&Elasticity       0.0\n",
       "Oiliness                  0.0\n",
       "Pigmentation&DarkSpots    0.0\n",
       "Puffiness                 0.0\n",
       "UnevenSkinTexture         0.0\n",
       "UnevenSkinTone            0.0\n",
       "VisiblePores              0.0\n",
       "Balm                      0.0\n",
       "Cream                     0.0\n",
       "Gel                       0.0\n",
       "Liquid                    0.0\n",
       "Lotion                    0.0\n",
       "Oil                       0.0\n",
       "Spray                     0.0\n",
       "20s                       0.0\n",
       "30s                       0.0\n",
       "40s                       0.0\n",
       "50+                       0.0\n",
       "Under20                   0.0\n",
       "dtype: float64"
      ]
     },
     "execution_count": 12,
     "metadata": {},
     "output_type": "execute_result"
    }
   ],
   "source": [
    "# Create a new vector for a 'new user' by initializing all features in the dataset above\n",
    "day_moisturizer_cols = dummified_day_moisturizer.columns # match feature space for new user with the existing dataset\n",
    "day_moisturizer_user_profile = pd.Series(data=np.zeros(len(day_moisturizer_cols)), index=dummified_day_moisturizer.columns) # initialize 0s for all categories to create new user vector\n",
    "day_moisturizer_user_profile"
   ]
  },
  {
   "cell_type": "code",
   "execution_count": 13,
   "id": "792b9563-83f5-476b-ab19-efcae295fa73",
   "metadata": {},
   "outputs": [],
   "source": [
    "# assign input values to categories to test recommendations\n",
    "day_moisturizer_user_profile['20s'] = 1\n",
    "day_moisturizer_user_profile['Oily'] = 1\n",
    "day_moisturizer_user_profile['Cream'] = 2\n",
    "day_moisturizer_user_profile['Oiliness'] = 3\n",
    "day_moisturizer_user_profile['rating'] = 1.5"
   ]
  },
  {
   "cell_type": "code",
   "execution_count": 14,
   "id": "fb2fe148-17d0-4115-84ab-982eb4c80e8c",
   "metadata": {
    "tags": []
   },
   "outputs": [
    {
     "data": {
      "text/plain": [
       "unique_id\n",
       "LAB SERIES-All-In-One Face Treatment                        14.50\n",
       "LANCÔME-Clarifique Brightening Plumping Milky Cream         14.05\n",
       "DR.JART+-Ctrl-A Teatreement™ Moisturizer                    13.90\n",
       "SEPHORA COLLECTION-Matte Moisturizer                        13.90\n",
       "ORIGINS-Original Skin™ Matte Moisturizer with Willowherb    13.60\n",
       "OLE HENRIKSEN-Cold Plunge™ Pore Remedy Moisturizer          13.60\n",
       "NUDESTIX-Citrus-C Mask & Daily Moisturizer                  13.60\n",
       "LAB SERIES-Oil Control Moisturizer                          13.45\n",
       "AUGUSTINUS BADER-The Light Cream                            13.45\n",
       "FENTY SKIN-Instant Reset Overnight Recovery Gel-Cream       13.45\n",
       "dtype: float64"
      ]
     },
     "execution_count": 14,
     "metadata": {},
     "output_type": "execute_result"
    }
   ],
   "source": [
    "# Cosine similiarity\n",
    "# Get the dot product between dummified dataset vector and user_profile\n",
    "day_moisturizer_recommendation = np.dot(dummified_day_moisturizer.values, day_moisturizer_user_profile.values)\n",
    "# Convert results to pandas Series \n",
    "day_moisturizer_recommendation = pd.Series(day_moisturizer_recommendation, index = dummified_day_moisturizer.index)\n",
    "# Get the top 10 recommendations for a new user\n",
    "day_moisturizer = day_moisturizer_recommendation.sort_values(ascending = False).head(10)\n",
    "day_moisturizer"
   ]
  },
  {
   "cell_type": "markdown",
   "id": "307f0b9f-fb12-43d5-9455-104ef7c5d372",
   "metadata": {},
   "source": [
    "#### Night Cream Recommendation"
   ]
  },
  {
   "cell_type": "code",
   "execution_count": 15,
   "id": "8a13701f-e1b1-4aa9-b977-b84e5fc28a58",
   "metadata": {
    "tags": []
   },
   "outputs": [
    {
     "data": {
      "text/plain": [
       "rating                    0.0\n",
       "Combination               0.0\n",
       "Dry                       0.0\n",
       "Normal                    0.0\n",
       "Oily                      0.0\n",
       "Sensitive                 0.0\n",
       "Ageing                    0.0\n",
       "Blackheads                0.0\n",
       "Blemishes                 0.0\n",
       "Dryness                   0.0\n",
       "Dullness                  0.0\n",
       "FineLines&Wrinkles        0.0\n",
       "Firmness&Elasticity       0.0\n",
       "Oiliness                  0.0\n",
       "Pigmentation&DarkSpots    0.0\n",
       "Puffiness                 0.0\n",
       "UnevenSkinTexture         0.0\n",
       "UnevenSkinTone            0.0\n",
       "VisiblePores              0.0\n",
       "Balm                      0.0\n",
       "Cream                     0.0\n",
       "Foam                      0.0\n",
       "Gel                       0.0\n",
       "Liquid                    0.0\n",
       "Lotion                    0.0\n",
       "Oil                       0.0\n",
       "20s                       0.0\n",
       "30s                       0.0\n",
       "40s                       0.0\n",
       "50+                       0.0\n",
       "Under20                   0.0\n",
       "dtype: float64"
      ]
     },
     "execution_count": 15,
     "metadata": {},
     "output_type": "execute_result"
    }
   ],
   "source": [
    "# Create a new vector for a 'new user' by initializing all features in the dataset above\n",
    "night_cream_cols = dummified_night_cream.columns # match feature space for new user with the existing dataset\n",
    "night_cream_user_profile = pd.Series(data=np.zeros(len(night_cream_cols)), index=dummified_night_cream.columns) # initialize 0s for all categories to create new user vector\n",
    "night_cream_user_profile"
   ]
  },
  {
   "cell_type": "code",
   "execution_count": 16,
   "id": "c202e6ad-d776-4eb3-bb43-f65cb6632064",
   "metadata": {},
   "outputs": [],
   "source": [
    "# assign input values to categories to test recommendations\n",
    "night_cream_user_profile['20s'] = 1\n",
    "night_cream_user_profile['Oily'] = 1\n",
    "night_cream_user_profile['Cream'] = 2\n",
    "night_cream_user_profile['Oiliness'] = 3\n",
    "night_cream_user_profile['rating'] = 1.5"
   ]
  },
  {
   "cell_type": "code",
   "execution_count": 17,
   "id": "9fbfea3d-6f84-4f70-b5f6-05a52d295ff1",
   "metadata": {
    "tags": []
   },
   "outputs": [
    {
     "data": {
      "text/plain": [
       "unique_id\n",
       "LAB SERIES-All-In-One Face Treatment                     14.50\n",
       "LAB SERIES-All-In-One Face Treatment                     14.50\n",
       "LANCÔME-Clarifique Brightening Plumping Milky Cream      14.05\n",
       "SEPHORA COLLECTION-Matte Moisturizer                     13.90\n",
       "NUDESTIX-Citrus-C Mask & Daily Moisturizer               13.60\n",
       "OLE HENRIKSEN-Cold Plunge™ Pore Remedy Moisturizer       13.60\n",
       "FENTY SKIN-Instant Reset Overnight Recovery Gel-Cream    13.45\n",
       "FIRST AID BEAUTY-Skin Rescue Daily Face Cream            13.30\n",
       "THE INKEY LIST-Vitamin B, C And E Moisturizer            13.30\n",
       "CLINIQUE-Dramatically Different Moisturizing Gel         11.75\n",
       "dtype: float64"
      ]
     },
     "execution_count": 17,
     "metadata": {},
     "output_type": "execute_result"
    }
   ],
   "source": [
    "# Cosine similiarity\n",
    "# Get the dot product between dummified dataset vector and user_profile\n",
    "night_cream_recommendation = np.dot(dummified_night_cream.values, night_cream_user_profile.values)\n",
    "# Convert results to pandas Series \n",
    "night_cream_recommendation = pd.Series(night_cream_recommendation, index = dummified_night_cream.index)\n",
    "# Get the top 10 recommendations for a new user\n",
    "night_cream = night_cream_recommendation.sort_values(ascending = False).head(10)\n",
    "night_cream"
   ]
  },
  {
   "cell_type": "markdown",
   "id": "d30c4885-45a8-4083-b1e1-e97d03767240",
   "metadata": {},
   "source": [
    "#### Sunscreen"
   ]
  },
  {
   "cell_type": "code",
   "execution_count": 18,
   "id": "61c62ccd-09f3-4ca2-be70-03dbf5f48099",
   "metadata": {},
   "outputs": [
    {
     "data": {
      "text/plain": [
       "rating                    0.0\n",
       "Combination               0.0\n",
       "Dry                       0.0\n",
       "Normal                    0.0\n",
       "Oily                      0.0\n",
       "Sensitive                 0.0\n",
       "Ageing                    0.0\n",
       "Blackheads                0.0\n",
       "Blemishes                 0.0\n",
       "DarkCircles               0.0\n",
       "Dryness                   0.0\n",
       "Dullness                  0.0\n",
       "FineLines&Wrinkles        0.0\n",
       "Firmness&Elasticity       0.0\n",
       "Oiliness                  0.0\n",
       "Pigmentation&DarkSpots    0.0\n",
       "UnevenSkinTexture         0.0\n",
       "UnevenSkinTone            0.0\n",
       "VisiblePores              0.0\n",
       "Balm                      0.0\n",
       "Cream                     0.0\n",
       "Gel                       0.0\n",
       "Liquid                    0.0\n",
       "LoosePowder               0.0\n",
       "Lotion                    0.0\n",
       "Oil                       0.0\n",
       "Spray                     0.0\n",
       "20s                       0.0\n",
       "30s                       0.0\n",
       "40s                       0.0\n",
       "50+                       0.0\n",
       "Under20                   0.0\n",
       "dtype: float64"
      ]
     },
     "execution_count": 18,
     "metadata": {},
     "output_type": "execute_result"
    }
   ],
   "source": [
    "# Create a new vector for a 'new user' by initializing all features in the dataset above\n",
    "sunscreen_cols = dummified_sunscreen.columns # match feature space for new user with the existing dataset\n",
    "sunscreen_user_profile = pd.Series(data=np.zeros(len(sunscreen_cols)), index=dummified_sunscreen.columns) # initialize 0s for all categories to create new user vector\n",
    "sunscreen_user_profile"
   ]
  },
  {
   "cell_type": "code",
   "execution_count": 19,
   "id": "8632c9a9-28f1-486c-b5cc-071b11109add",
   "metadata": {},
   "outputs": [],
   "source": [
    "# assign input values to categories to test recommendations\n",
    "sunscreen_user_profile['20s'] = 1\n",
    "sunscreen_user_profile['Oily'] = 1\n",
    "sunscreen_user_profile['Cream'] = 2\n",
    "sunscreen_user_profile['Oiliness'] = 3\n",
    "sunscreen_user_profile['rating'] = 1.5"
   ]
  },
  {
   "cell_type": "code",
   "execution_count": 20,
   "id": "a0f07d84-4e2f-4c59-b083-53f50fb79a51",
   "metadata": {},
   "outputs": [
    {
     "data": {
      "text/plain": [
       "unique_id\n",
       "ULTRA VIOLETTE-Lean Screen Mineral Mattifying SPF 50+                                     13.90\n",
       "SUPERGOOP!-Unseen Sunscreen Broad Spectrum Sunscreen SPF 40 PA+++                         13.45\n",
       "SUPERGOOP!-Mineral Mattescreen SPF 40 PA+++                                               13.30\n",
       "DERMALOGICA CLEAR START-Clearing Defense SPF 30                                           12.55\n",
       "THREE-Balancing UV Protector R                                                            11.50\n",
       "DIOR-Prestige Light-In-White The UV Protector Youth And Light Sheer Glow SPF 50+ PA+++    11.50\n",
       "CLE DE PEAU-UV Protective Cream SPF 50+                                                   11.50\n",
       "LANCÔME-UV Expert Youth-Shield™ Aqua Gel SPF50 PA++++                                     11.45\n",
       "SHISEIDO-Clear Stick UV Protector SPF 50+ PA++++                                          11.20\n",
       "SK-II-Atmosphere CC Cream SPF 50 PA++++                                                   11.20\n",
       "dtype: float64"
      ]
     },
     "execution_count": 20,
     "metadata": {},
     "output_type": "execute_result"
    }
   ],
   "source": [
    "# Cosine similiarity\n",
    "# Get the dot product between dummified dataset vector and user_profile\n",
    "sunscreen_recommendation = np.dot(dummified_sunscreen.values, sunscreen_user_profile.values)\n",
    "# Convert results to pandas Series \n",
    "sunscreen_recommendation = pd.Series(sunscreen_recommendation, index = dummified_sunscreen.index)\n",
    "# Get the top 10 recommendations for a new user\n",
    "sunscreen = sunscreen_recommendation.sort_values(ascending = False).head(10)\n",
    "sunscreen"
   ]
  },
  {
   "cell_type": "markdown",
   "id": "ac87d9e6-2a7f-4b32-9d22-baa71a440e6c",
   "metadata": {},
   "source": [
    "For a user in their 20s, with oily skin, skin concern of oiliness and formulation preference of cream, they will be recommended the following products: \n"
   ]
  },
  {
   "cell_type": "code",
   "execution_count": 21,
   "id": "81f643cc-2702-424f-9ae0-da27c1114cff",
   "metadata": {},
   "outputs": [
    {
     "name": "stdout",
     "output_type": "stream",
     "text": [
      "Cleanser: SKIN INC-Pure Serum Infused O2 Cleanser\n",
      "Toner: DRGL-Toner Oil Control\n",
      "Day Moisturizer: LAB SERIES-All-In-One Face Treatment\n",
      "Night Cream: LAB SERIES-All-In-One Face Treatment\n",
      "Sunscreen: ULTRA VIOLETTE-Lean Screen Mineral Mattifying SPF 50+\n"
     ]
    }
   ],
   "source": [
    "print(f'Cleanser: {cleanser.index[0]}\\nToner: {toner.index[0]}\\nDay Moisturizer: {day_moisturizer.index[0]}\\nNight Cream: {night_cream.index[0]}\\nSunscreen: {sunscreen.index[0]}')\n",
    "      "
   ]
  },
  {
   "cell_type": "markdown",
   "id": "9224c87d-3826-4aa8-a03a-9c9081b960f6",
   "metadata": {},
   "source": [
    "The output above shows that my recommendation works, and I am able to recommend a user a set of 5 products.\n",
    "With this, I now have all the building blocks to build a web app which will be done in the next notebook!\n",
    "I will be using filter tags as the basis of my recommendation system. In doing so, I will be able to avoid running into cold-start issues and having to wait for more explicit data from a new user before giving any recommendations. "
   ]
  },
  {
   "cell_type": "code",
   "execution_count": 22,
   "id": "bc8f96db-cbc9-4bb2-8e59-f78ee41f56e6",
   "metadata": {},
   "outputs": [],
   "source": [
    "# Export datasets\n",
    "dummified_cleanser.to_csv('../data/recommender_cleanser.csv', index = True)\n",
    "dummified_toner.to_csv('../data/recommender_toner.csv', index = True)\n",
    "dummified_day_moisturizer.to_csv('../data/recommender_day_moisturizer.csv', index = True)\n",
    "dummified_night_cream.to_csv('../data/recommender_night_cream.csv', index = True)\n",
    "dummified_sunscreen.to_csv('../data/recommender_sunscreen.csv', index = True)"
   ]
  }
 ],
 "metadata": {
  "kernelspec": {
   "display_name": "Python 3 (ipykernel)",
   "language": "python",
   "name": "python3"
  },
  "language_info": {
   "codemirror_mode": {
    "name": "ipython",
    "version": 3
   },
   "file_extension": ".py",
   "mimetype": "text/x-python",
   "name": "python",
   "nbconvert_exporter": "python",
   "pygments_lexer": "ipython3",
   "version": "3.8.13"
  }
 },
 "nbformat": 4,
 "nbformat_minor": 5
}
