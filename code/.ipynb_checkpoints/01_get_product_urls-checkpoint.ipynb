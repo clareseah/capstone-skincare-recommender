{
 "cells": [
  {
   "cell_type": "markdown",
   "id": "f0ac05d6-05d8-4880-8b53-df966ebb3a07",
   "metadata": {},
   "source": [
    "<img src=\"./images/cs_logo_pink.PNG\" style=\"float: left; margin: 36px 20px 0 0; height: 60px\">\n",
    "\n",
    "# Capstone Project - Cos Skin <br><i style = \"font-size:16px\">Your skin but better</i>"
   ]
  },
  {
   "cell_type": "markdown",
   "id": "69b86cd3-fd37-43b1-b6dc-719b2807439b",
   "metadata": {
    "tags": []
   },
   "source": [
    "## Notebook 1 of 7\n",
    "<b>Notebook 1: Introduction & Data Collection Part 1 of 3<br></b>\n",
    "Notebook 2: Data Collection Part 2 of 3<br>\n",
    "Notebook 3: Data Collection Part 3 of 3<br>\n",
    "Notebook 4: EDA & Data Cleaning<br>\n",
    "Notebook 5: Pre-processing<br>\n",
    "Notebook 6: Modeling<br>\n",
    "Notebook 7: App Deployment"
   ]
  },
  {
   "cell_type": "markdown",
   "id": "cfa5a6b8-1074-4f8c-8888-1df99ad86a66",
   "metadata": {},
   "source": [
    "# Introduction"
   ]
  },
  {
   "cell_type": "markdown",
   "id": "3f79fbca-2899-4929-892b-1f02157182a3",
   "metadata": {},
   "source": [
    "## Background\n",
    "The number of skincare brands and products in the market are ever increasing. And having more options does not necessarily help us make better choices. The overwhelming number of available options to create a skincare routine from scratch may lead to decision fatigue instead. Hence I decided to build a skincare recommender to help beginners put together a simple skincare routine and to expose existing skincare users to more options as well. <br>\n",
    "\n",
    "I will be looking at 5 different categories: Cleanser, Toner, Day Moisturizer, Night Cream, Sunscreen to create a simple skincare routine."
   ]
  },
  {
   "cell_type": "markdown",
   "id": "b82ee1ee-972f-4c1b-b8af-cb687e2edcf2",
   "metadata": {},
   "source": [
    "## Goal\n",
    "To recommend 5 different products based on user's profile and preferences. These 5 products put together gives the user a morning routine consisting of 4 products, and a night routine consisting of 3 products.\n",
    "| Morning Routine                                                            | Night Routine                                    |\n",
    "|----------------------------------------------------------------------------|--------------------------------------------------|\n",
    "| 1. Cleanser<br>  2. Toner<br> 3. Day Moisturizer <br> 4. Sunscreen<br> | 1. Cleaner <br> 2. Toner<br> 3. Night Cream  |"
   ]
  },
  {
   "cell_type": "markdown",
   "id": "15d272a0-c1bb-41ba-8402-960929b28214",
   "metadata": {},
   "source": [
    "## Data Collection\n",
    "\n",
    "For this project, I will be scraping data from Sephora Singapore. To focus on a simple skincare routine, I will be zooming into the 5 basic categories - cleanser, toner, day moisturizer, night cream and sunscreen.<br>\n",
    "\n",
    "Data Collection will be split into three parts.<br>\n",
    "In the first notebook, I will be using Selenium to scrape basic product information by category url. The products will be scraped by category, and the basic information scraped includes product url, name, price, brand, ratings, number of reviews and whether it is a Sephora Exclusive product or not.\n",
    "<br><br>\n",
    "In the second notebook, I will also be using Selenium to scrape additional product information which includes product descriptions, product claims, product ingredients and product images. \n",
    "<br><br>\n",
    "In the third notebook, I will be using API GET request to pull product reviews. "
   ]
  },
  {
   "cell_type": "code",
   "execution_count": 1,
   "id": "be5dbbe6-48aa-4b35-93ae-f25b52e0eb2f",
   "metadata": {},
   "outputs": [],
   "source": [
    "# import libraries\n",
    "import pandas as pd\n",
    "import csv\n",
    "import time\n",
    "import sys, traceback\n",
    "\n",
    "from tqdm import tqdm\n",
    "from selenium import webdriver\n",
    "from selenium.webdriver.chrome.service import Service\n",
    "from selenium.webdriver.common.by import By\n",
    "from selenium.webdriver.support.ui import WebDriverWait\n",
    "from selenium.webdriver.support import expected_conditions as EC\n",
    "from selenium.common.exceptions import TimeoutException\n",
    "from selenium.common.exceptions import NoSuchElementException"
   ]
  },
  {
   "cell_type": "markdown",
   "id": "67d64f63-9741-4623-b1c0-71438c9edc98",
   "metadata": {},
   "source": [
    "#### Functions for Web Scraping"
   ]
  },
  {
   "cell_type": "code",
   "execution_count": 2,
   "id": "7d348c0b-dd9f-4cf8-8ff2-db56c061bbcf",
   "metadata": {},
   "outputs": [],
   "source": [
    "# create a list of URLs to be scraped\n",
    "def create_cat_url():\n",
    "    cats = []\n",
    "    for i in range(len(total_pages)):\n",
    "        j = 0\n",
    "        k = total_pages[i]\n",
    "        while j < k:\n",
    "            if j == 0:\n",
    "                cats.append(cats_to_scrape[i])\n",
    "            else:\n",
    "                cats.append(f'{cats_to_scrape[i]}&page={j+1}')\n",
    "            j+=1\n",
    "\n",
    "    return cats\n",
    "\n",
    "# find number of pages per category\n",
    "def cat_pages(cat_url):\n",
    "    option = webdriver.ChromeOptions()\n",
    "    option.add_argument('--headless')\n",
    "    chrome_executable = Service('/Users/CLARE/mambaforge/bin/chromedriver')\n",
    "    driver = webdriver.Chrome(service=chrome_executable, options = option)\n",
    "    driver.implicitly_wait(10)\n",
    "    \n",
    "    cat_url = cat_url\n",
    "    driver.get(cat_url) \n",
    "    \n",
    "    try:\n",
    "        WebDriverWait(driver, 10).until(EC.element_to_be_clickable((By.CSS_SELECTOR, \"div.pagination-container.full>nav>a.page\")))\n",
    "        pagination = driver.find_elements(By.CSS_SELECTOR, \"div.pagination-container.full>nav>a.page\")\n",
    "        page_list = [p.get_attribute(\"text\") for p in pagination]\n",
    "        last_page = int(page_list[-2])\n",
    "    except IndexError:\n",
    "        last_page = 1\n",
    "    \n",
    "    return last_page\n",
    "\n",
    "# scrape data with selenium\n",
    "def scrape_pdt_by_cat(category, csv_name, tqdm_desc):\n",
    "    option = webdriver.ChromeOptions()\n",
    "    option.add_argument('--headless')\n",
    "    chrome_executable = Service('/Users/CLARE/mambaforge/bin/chromedriver')\n",
    "    driver = webdriver.Chrome(service=chrome_executable, options = option)\n",
    "    driver.maximize_window()\n",
    "    driver.implicitly_wait(10)\n",
    "    \n",
    "    # create and open csv file\n",
    "    csvFile = open(csv_name, 'a',  encoding = \"utf-8\")\n",
    "    header = [\"pdt_url\", \"brand\", \"pdt_name\", \"price\", \"rating\", \"num_reviews\", \"sephora_exclusive\"]\n",
    "    csvWriter = csv.DictWriter(csvFile, fieldnames = header)\n",
    "    csvWriter.writeheader()\n",
    "    \n",
    "    for i in range(len(category)):\n",
    "        url = category[i]\n",
    "        driver.get(url) \n",
    "        WebDriverWait(driver, 10).until(EC.visibility_of_element_located((By.CSS_SELECTOR, \"a.product-card-description[data-v-664a9576]\")))\n",
    "        box = driver.find_elements(By.CSS_SELECTOR, \"a.product-card-description[data-v-664a9576]\")\n",
    "\n",
    "        for i in tqdm(range(len(box)), desc = tqdm_desc):\n",
    "            csvFile = open(csv_name, 'a',  encoding = \"utf-8\")\n",
    "            header = [\"pdt_url\", \"brand\", \"pdt_name\", \"price\", \"rating\", \"num_reviews\", \"sephora_exclusive\"]\n",
    "            csvWriter = csv.DictWriter(csvFile, fieldnames = header)    \n",
    "            \n",
    "            try:\n",
    "                pdt_link = box[i].get_attribute(\"href\")\n",
    "                pdt_brand = box[i].find_element(By.CSS_SELECTOR, \"p.product-card-brand\").text\n",
    "                pdt_name = box[i].find_element(By.CSS_SELECTOR, \"p.product-card-product\").text\n",
    "                pdt_price = float(box[i].find_element(By.CSS_SELECTOR, \"p.product-price>span\").text.replace('$', ''))\n",
    "                pdt_rating = float(box[i].find_element(By.CSS_SELECTOR, \"div.rating-container>div.product-rating-rating\").get_attribute(\"data-rateit-value\"))\n",
    "                pdt_review = int(box[i].find_element(By.CSS_SELECTOR, \"div.rating-container>span.product-rating-count\").text.replace('(', '').replace(')',''))\n",
    "                pdt_exclusive = box[i].find_element(By.CSS_SELECTOR, \"p>span.dy-plp-exclusive-tag\").text\n",
    "                csvWriter.writerow({\"pdt_url\": pdt_link, \"brand\":pdt_brand, \"pdt_name\":pdt_name, \"price\":pdt_price, \"rating\":pdt_rating, \"num_reviews\":pdt_review, \"sephora_exclusive\":pdt_exclusive}) \n",
    "                \n",
    "            except NoSuchElementException:\n",
    "                exc_type, exc_value, exc_traceback = sys.exc_info()\n",
    "                if exc_traceback.tb_lineno == 70:\n",
    "                    pdt_exclusive = 0\n",
    "                    csvWriter.writerow({\"pdt_url\": pdt_link, \"brand\":pdt_brand, \"pdt_name\":pdt_name, \"price\":pdt_price, \"rating\":pdt_rating, \"num_reviews\":pdt_review, \"sephora_exclusive\":pdt_exclusive})\n",
    "                else: \n",
    "                    pdt_rating = 'NA'\n",
    "                    pdt_review = 'NA'\n",
    "                    csvWriter.writerow({\"pdt_url\": pdt_link, \"brand\":pdt_brand, \"pdt_name\":pdt_name, \"price\":pdt_price, \"rating\":pdt_rating, \"num_reviews\":pdt_review, \"sephora_exclusive\":pdt_exclusive})\n",
    "    csvFile.close()                                    \n",
    "    driver.quit()"
   ]
  },
  {
   "cell_type": "code",
   "execution_count": 3,
   "id": "9017505e-223c-4ae5-a417-eb0e43496986",
   "metadata": {},
   "outputs": [],
   "source": [
    "# first page of category URLs\n",
    "cats_to_scrape = [\"https://www.sephora.sg/categories/skincare/cleanser-and-exfoliator/facial-cleanser?view=120\", \n",
    "                 \"https://www.sephora.sg/categories/skincare/toner?view=120\",\n",
    "                 \"https://www.sephora.sg/categories/skincare/moisturiser/day-moisturiser?view=120\", \n",
    "                 \"https://www.sephora.sg/categories/skincare/moisturiser/night-cream?view=120\",\n",
    "                 \"https://www.sephora.sg/categories/skincare/suncare/face-sunscreen?view=120\"]"
   ]
  },
  {
   "cell_type": "code",
   "execution_count": 4,
   "id": "3c004cf6-5da2-4ae6-a57f-d34b9e1bb346",
   "metadata": {},
   "outputs": [],
   "source": [
    "# total number of pages per category\n",
    "total_pages = []\n",
    "for i in range(len(cats_to_scrape)):\n",
    "    p = cat_pages(cats_to_scrape[i])\n",
    "    total_pages.append(p)"
   ]
  },
  {
   "cell_type": "code",
   "execution_count": 5,
   "id": "0c44b82f-fe75-4e4e-a37d-803b2c1e5b75",
   "metadata": {},
   "outputs": [
    {
     "data": {
      "text/plain": [
       "[4, 2, 5, 3, 1]"
      ]
     },
     "execution_count": 5,
     "metadata": {},
     "output_type": "execute_result"
    }
   ],
   "source": [
    "total_pages"
   ]
  },
  {
   "cell_type": "code",
   "execution_count": 6,
   "id": "dc55d4cf-46b8-45ed-801c-0a5afb7f3fff",
   "metadata": {},
   "outputs": [],
   "source": [
    "# list of all URLs to be scrapped\n",
    "cat_urls = create_cat_url()"
   ]
  },
  {
   "cell_type": "code",
   "execution_count": 7,
   "id": "b7e43748-7967-4b97-890f-69f8520ddba2",
   "metadata": {},
   "outputs": [
    {
     "data": {
      "text/plain": [
       "['https://www.sephora.sg/categories/skincare/cleanser-and-exfoliator/facial-cleanser?view=120',\n",
       " 'https://www.sephora.sg/categories/skincare/cleanser-and-exfoliator/facial-cleanser?view=120&page=2',\n",
       " 'https://www.sephora.sg/categories/skincare/cleanser-and-exfoliator/facial-cleanser?view=120&page=3',\n",
       " 'https://www.sephora.sg/categories/skincare/cleanser-and-exfoliator/facial-cleanser?view=120&page=4',\n",
       " 'https://www.sephora.sg/categories/skincare/toner?view=120',\n",
       " 'https://www.sephora.sg/categories/skincare/toner?view=120&page=2',\n",
       " 'https://www.sephora.sg/categories/skincare/moisturiser/day-moisturiser?view=120',\n",
       " 'https://www.sephora.sg/categories/skincare/moisturiser/day-moisturiser?view=120&page=2',\n",
       " 'https://www.sephora.sg/categories/skincare/moisturiser/day-moisturiser?view=120&page=3',\n",
       " 'https://www.sephora.sg/categories/skincare/moisturiser/day-moisturiser?view=120&page=4',\n",
       " 'https://www.sephora.sg/categories/skincare/moisturiser/day-moisturiser?view=120&page=5',\n",
       " 'https://www.sephora.sg/categories/skincare/moisturiser/night-cream?view=120',\n",
       " 'https://www.sephora.sg/categories/skincare/moisturiser/night-cream?view=120&page=2',\n",
       " 'https://www.sephora.sg/categories/skincare/moisturiser/night-cream?view=120&page=3',\n",
       " 'https://www.sephora.sg/categories/skincare/suncare/face-sunscreen?view=120']"
      ]
     },
     "execution_count": 7,
     "metadata": {},
     "output_type": "execute_result"
    }
   ],
   "source": [
    "cat_urls"
   ]
  },
  {
   "cell_type": "code",
   "execution_count": 8,
   "id": "38cca5f3-973c-4bae-b202-596791137f99",
   "metadata": {},
   "outputs": [],
   "source": [
    "# split cat_urls list into individual lists by categories \n",
    "cleanser = cat_urls[0:4]\n",
    "toner = cat_urls[4:6]\n",
    "day_moisturizer = cat_urls[6:11]\n",
    "night_cream = cat_urls[11:14]\n",
    "sunscreen = cat_urls[14:16]"
   ]
  },
  {
   "cell_type": "code",
   "execution_count": 9,
   "id": "21e8b300-dc7b-4d90-bd1c-0d8b60dd0732",
   "metadata": {},
   "outputs": [],
   "source": [
    "categories = [cleanser, toner, day_moisturizer, night_cream, sunscreen]"
   ]
  },
  {
   "cell_type": "code",
   "execution_count": 10,
   "id": "a97a249f-3807-4afe-bd43-1018e4e1198f",
   "metadata": {},
   "outputs": [],
   "source": [
    "# csv file name & location for each category\n",
    "file_name = [\"../data/cleanser_basic_info.csv\",\n",
    "            \"../data/toner_basic_info.csv\", \n",
    "            \"../data/day_moisturizer_basic_info.csv\", \n",
    "            \"../data/night_cream_basic_info.csv\", \n",
    "            \"../data/sunscreen_basic_info.csv\"]"
   ]
  },
  {
   "cell_type": "code",
   "execution_count": 11,
   "id": "b8bf38af-a4d1-4588-be7e-6fd1195faf47",
   "metadata": {},
   "outputs": [],
   "source": [
    "# tqdm_description to identify which category is being scrapped\n",
    "tqdm_desc = ['cleanser', 'toner', 'day_moisturizer', 'night_cream', 'sunscreen']"
   ]
  },
  {
   "cell_type": "code",
   "execution_count": 12,
   "id": "54fbe437-11a5-466d-9fc9-7a381da4ad7a",
   "metadata": {},
   "outputs": [
    {
     "name": "stderr",
     "output_type": "stream",
     "text": [
      "cleanser: 100%|███████████████████████████████| 120/120 [12:11<00:00,  6.10s/it]\n",
      "cleanser: 100%|███████████████████████████████| 120/120 [13:50<00:00,  6.92s/it]\n",
      "cleanser: 100%|███████████████████████████████| 120/120 [13:20<00:00,  6.67s/it]\n",
      "cleanser: 100%|█████████████████████████████████| 12/12 [01:41<00:00,  8.43s/it]\n",
      "toner: 100%|██████████████████████████████████| 120/120 [12:31<00:00,  6.26s/it]\n",
      "toner: 100%|████████████████████████████████████| 91/91 [10:58<00:00,  7.24s/it]\n",
      "day_moisturizer: 100%|████████████████████████| 120/120 [11:40<00:00,  5.84s/it]\n",
      "day_moisturizer: 100%|████████████████████████| 120/120 [15:31<00:00,  7.76s/it]\n",
      "day_moisturizer: 100%|████████████████████████| 120/120 [15:21<00:00,  7.68s/it]\n",
      "day_moisturizer: 100%|████████████████████████| 120/120 [15:01<00:00,  7.51s/it]\n",
      "day_moisturizer: 100%|██████████████████████████| 66/66 [07:05<00:00,  6.45s/it]\n",
      "night_cream: 100%|████████████████████████████| 120/120 [13:21<00:00,  6.68s/it]\n",
      "night_cream: 100%|████████████████████████████| 120/120 [14:21<00:00,  7.18s/it]\n",
      "night_cream: 100%|████████████████████████████████| 7/7 [00:40<00:00,  5.80s/it]\n",
      "sunscreen: 100%|████████████████████████████████| 90/90 [07:48<00:00,  5.20s/it]\n"
     ]
    }
   ],
   "source": [
    "# scrapping of category URLs to get basic product info\n",
    "for i in range(len(categories)):\n",
    "    scrape_pdt_by_cat(categories[i], file_name[i], tqdm_desc[i])"
   ]
  },
  {
   "cell_type": "markdown",
   "id": "2bc0c0c7-29f1-4496-ab07-8d5969d51c63",
   "metadata": {},
   "source": [
    "The initial scraping obtains 1466 products in total. As I am looking to recommend only one product for each category, I will drop any items that contain words such as 'set' or 'kit'. I also observed that some products have the same name but are from different brands. Hence a new columns is created, concatenating the brand and product name to act as a unique identifier for each item."
   ]
  },
  {
   "cell_type": "code",
   "execution_count": 13,
   "id": "f6069967-2320-44df-9650-0bb6355f8c9a",
   "metadata": {},
   "outputs": [],
   "source": [
    "# import datasets that were scraped above\n",
    "cleanser_basic_info = pd.read_csv('../data/cleanser_basic_info.csv')\n",
    "toner_basic_info = pd.read_csv('../data/toner_basic_info.csv')\n",
    "day_m_basic_info = pd.read_csv('../data/day_moisturizer_basic_info.csv')\n",
    "night_cream_basic_info = pd.read_csv('../data/night_cream_basic_info.csv')\n",
    "sunscreen_basic_info = pd.read_csv('../data/sunscreen_basic_info.csv')"
   ]
  },
  {
   "cell_type": "code",
   "execution_count": 14,
   "id": "17d6f398-7914-4fe9-be2f-146f9f845ad6",
   "metadata": {},
   "outputs": [],
   "source": [
    "# function to remove all sets/kits from dataset\n",
    "def drop_sets(df):\n",
    "    df = df[(df['pdt_name'].str.contains('Kit') == False) & (df['pdt_name'].str.contains('Set') == False)]\n",
    "    df = df.reset_index(drop = True)\n",
    "    \n",
    "    return df\n",
    "\n",
    "# add a unique identifier by concatenating brand and product name as different brands may have products with the same name\n",
    "def unique_identifier(df):\n",
    "    df['unique_id'] = df['brand'] + '-' + df['pdt_name']\n",
    "    return df"
   ]
  },
  {
   "cell_type": "code",
   "execution_count": 15,
   "id": "08b87be8-30aa-4380-a239-129a7213fd67",
   "metadata": {},
   "outputs": [],
   "source": [
    "# drop prodcuts that come as a set\n",
    "cleanser_pdts = drop_sets(cleanser_basic_info)\n",
    "toner_pdts = drop_sets(toner_basic_info)\n",
    "day_moisturizer_pdts = drop_sets(day_m_basic_info)\n",
    "night_cream_pdts = drop_sets(night_cream_basic_info)\n",
    "sunscreen_pdts = drop_sets(sunscreen_basic_info)"
   ]
  },
  {
   "cell_type": "code",
   "execution_count": 16,
   "id": "75c40f74-6b73-4c57-8132-4ceb82773fb2",
   "metadata": {},
   "outputs": [],
   "source": [
    "# create a new column to serve as product identification\n",
    "cleanser_pdts_unique = unique_identifier(cleanser_pdts)\n",
    "toner_pdts_unique = unique_identifier(toner_pdts)\n",
    "day_moisturizer_pdts_unique = unique_identifier(day_moisturizer_pdts)\n",
    "night_cream_pdts_unique = unique_identifier(night_cream_pdts)\n",
    "sunscreen_pdts_unique = unique_identifier(sunscreen_pdts)"
   ]
  },
  {
   "cell_type": "code",
   "execution_count": 19,
   "id": "a2636cfb-9262-45bc-a2aa-33a61b07d5fa",
   "metadata": {},
   "outputs": [],
   "source": [
    "# export datasets\n",
    "cleanser_pdts_unique.to_csv('../data/cleanser_pdts.csv', index = False )\n",
    "toner_pdts_unique.to_csv('../data/toner_pdts.csv', index = False )\n",
    "day_moisturizer_pdts_unique.to_csv('../data/day_moisturizer_pdts.csv', index = False )\n",
    "night_cream_pdts_unique.to_csv('../data/night_cream_pdts.csv', index = False )\n",
    "sunscreen_pdts_unique.to_csv('../data/sunscreen_pdts.csv', index = False )"
   ]
  }
 ],
 "metadata": {
  "kernelspec": {
   "display_name": "Python 3 (ipykernel)",
   "language": "python",
   "name": "python3"
  },
  "language_info": {
   "codemirror_mode": {
    "name": "ipython",
    "version": 3
   },
   "file_extension": ".py",
   "mimetype": "text/x-python",
   "name": "python",
   "nbconvert_exporter": "python",
   "pygments_lexer": "ipython3",
   "version": "3.8.13"
  }
 },
 "nbformat": 4,
 "nbformat_minor": 5
}
